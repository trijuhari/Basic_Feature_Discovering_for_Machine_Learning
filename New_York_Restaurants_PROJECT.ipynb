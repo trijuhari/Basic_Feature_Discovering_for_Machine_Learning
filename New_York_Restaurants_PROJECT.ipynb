{
  "nbformat": 4,
  "nbformat_minor": 0,
  "metadata": {
    "colab": {
      "name": "New York Restaurants PROJECT.ipynb",
      "provenance": [],
      "authorship_tag": "ABX9TyO19bnDjOeTKdF0YFNngO1E",
      "include_colab_link": true
    },
    "kernelspec": {
      "name": "python3",
      "display_name": "Python 3"
    }
  },
  "cells": [
    {
      "cell_type": "markdown",
      "metadata": {
        "id": "view-in-github",
        "colab_type": "text"
      },
      "source": [
        "<a href=\"https://colab.research.google.com/github/trijuhari/Data_science/blob/master/New_York_Restaurants_PROJECT.ipynb\" target=\"_parent\"><img src=\"https://colab.research.google.com/assets/colab-badge.svg\" alt=\"Open In Colab\"/></a>"
      ]
    },
    {
      "cell_type": "markdown",
      "metadata": {
        "id": "0kublgaMCf67",
        "colab_type": "text"
      },
      "source": [
        ""
      ]
    },
    {
      "cell_type": "markdown",
      "metadata": {
        "id": "T9_-rh4vCiGR",
        "colab_type": "text"
      },
      "source": [
        "# **New York Restaurants**\n",
        "Practice writing the most common types of queries.\n",
        "\n",
        "## **New York Restaurants**\n",
        "We have put together a table of restaurants called nomnom and we need your help to answer some questions. Use the SQL commands you just learned and find the best dinner spots in the city.\n",
        "\n",
        "![alt text](https://s3.amazonaws.com/codecademy-content/courses/sql-intensive/nomnom.png)"
      ]
    },
    {
      "cell_type": "markdown",
      "metadata": {
        "id": "1I0bR-T-C63C",
        "colab_type": "text"
      },
      "source": [
        "\n",
        "### **Start by getting a feel for the nomnom table:**\n",
        "\n",
        "    SELECT *\n",
        "    FROM nomnom;\n",
        "\n",
        "## **What are the distinct neighborhoods?**\n",
        "\n",
        "      SELECT DISTINCT neighborhood\n",
        "      FROM nomnom;\n",
        "\n",
        "The neighborhoods are:\n",
        "\n",
        "* Brooklyn\n",
        "* Midtown\n",
        "* Chinatown\n",
        "* Uptown\n",
        "* Queens\n",
        "* Downtown\n",
        "\n",
        "\n",
        "## **What are the distinct cuisine types?**\n",
        "\n",
        "\n",
        " \n",
        "    SELECT DISTINCT cuisine\n",
        "    FROM nomnom;\n",
        "\n",
        "\n",
        "The cuisine types are:\n",
        "\n",
        "* Steak\n",
        "* Korean\n",
        "* Chinese\n",
        "* Pizza\n",
        "* Ethiopian\n",
        "* Vegetarian\n",
        "* Italian\n",
        "* Japanese\n",
        "* American\n",
        "* Mediterranean\n",
        "* Indian\n",
        "* Soul Food\n",
        "* Mexican\n",
        "\n",
        "\n",
        "## **Suppose we would like some Chinese takeout.**\n",
        "\n",
        "What are our options?\n",
        "\n",
        " \n",
        "    SELECT *\n",
        "    FROM nomnom\n",
        "    WHERE cuisine = 'Chinese';\n"
      ]
    },
    {
      "cell_type": "markdown",
      "metadata": {
        "id": "3ynfAuGJG3jo",
        "colab_type": "text"
      },
      "source": [
        "## **Return all the restaurants with reviews of 4 and above.**\n",
        " \n",
        "  \n",
        "    SELECT *\n",
        "    FROM nomnom\n",
        "    WHERE review >= 4;"
      ]
    },
    {
      "cell_type": "markdown",
      "metadata": {
        "id": "XO4scIkJHM20",
        "colab_type": "text"
      },
      "source": [
        "## **If you want to find Italian restaurants with exactly three dollar signs:**\n",
        "\n",
        "    SELECT *\n",
        "    FROM nomnom\n",
        "    WHERE cuisine = 'Italian'\n",
        "    AND price = '$$$';\n",
        "\n",
        "If you want to find Italian restaurants with at least three dollar signs:\n",
        "\n",
        "    SELECT *\n",
        "    FROM nomnom\n",
        "    WHERE cuisine = 'Italian'\n",
        "    AND price LIKE '%$$$%';\n",
        "\n",
        "\n",
        "Your coworker Trey can’t remember the exact name of a restaurant he went to but he knows it contains the word ‘meatball’ in it.\n",
        "\n",
        "Can you find it for him using a query?\n",
        "\n",
        "\n",
        "Hint\n",
        "% is a wildcard character that matches zero or more missing letters in the pattern.\n",
        "\n",
        "To find the restaurant names that contain the word ‘meatball’:\n",
        "\n",
        "    SELECT *\n",
        "    FROM nomnom\n",
        "    WHERE name LIKE '%meatball%';"
      ]
    },
    {
      "cell_type": "markdown",
      "metadata": {
        "id": "5FKXL2XqH3i8",
        "colab_type": "text"
      },
      "source": [
        "## **Let’s order delivery to the house!**\n",
        "\n",
        "Find all the close by spots in Midtown, Downtown or Chinatown.\n",
        "\n",
        "(OR can be used more than once)\n",
        "\n",
        "\n",
        "Hint\n",
        "We can use the OR operators to combine these conditions:\n",
        "\n",
        "    SELECT *\n",
        "    FROM nomnom\n",
        "    WHERE neighborhood = 'Midtown'\n",
        "      OR neighborhood = 'Downtown'\n",
        "      OR neighborhood = 'Chinatown'; \n",
        "\n",
        "\n",
        "Here, we have three conditions:\n",
        "\n",
        "neighborhood = 'Midtown'\n",
        "neighborhood = 'Downtown'\n",
        "neighborhood = 'Chinatown'\n",
        "OR Venn Diagram ![alt text](https://s3.amazonaws.com/codecademy-content/courses/learn-sql/queries/OR-project.svg)"
      ]
    },
    {
      "cell_type": "markdown",
      "metadata": {
        "id": "M89hXL2oIPhT",
        "colab_type": "text"
      },
      "source": [
        "## **Create a Top 10 Restaurants Ranking based on reviews.**\n",
        "\n",
        "\n",
        "Hint\n",
        "Using ORDER BY and the DESC keyword, we can sort the restaurants by ratings from highest to lowest:\n",
        "\n",
        "    SELECT *\n",
        "    FROM nomnom\n",
        "    ORDER BY review DESC;\n",
        "\n",
        "    SELECT *\n",
        "    FROM nomnom\n",
        "    ORDER BY review DESC\n",
        "    LIMIT 10;"
      ]
    },
    {
      "cell_type": "markdown",
      "metadata": {
        "id": "hAeffkDVImvw",
        "colab_type": "text"
      },
      "source": [
        "## **Use a CASE statement to change the rating system to:**\n",
        "\n",
        "* review > 4.5 is Extraordinary\n",
        "* review > 4 is Excellent\n",
        "* review > 3 is Good\n",
        "* review > 2 is Fair\n",
        "\n",
        "Everything else is Poor\n",
        "Don’t forget to rename the new column!\n",
        "\n",
        "    SELECT name,\n",
        "    CASE\n",
        "      WHEN review > 4.5 THEN 'Extraordinary'\n",
        "      WHEN review > 4 THEN 'Excellent'\n",
        "      WHEN review > 3 THEN 'Good'\n",
        "      WHEN review > 2 THEN 'Fair'\n",
        "      ELSE 'Poor'\n",
        "    END AS 'Review'\n",
        "    FROM nomnom;"
      ]
    },
    {
      "cell_type": "markdown",
      "metadata": {
        "id": "vUVvODlWIy9W",
        "colab_type": "text"
      },
      "source": [
        ""
      ]
    },
    {
      "cell_type": "code",
      "metadata": {
        "id": "N3cguADYCW2n",
        "colab_type": "code",
        "colab": {}
      },
      "source": [
        ""
      ],
      "execution_count": null,
      "outputs": []
    }
  ]
}