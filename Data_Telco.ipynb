{
 "nbformat": 4,
 "nbformat_minor": 0,
 "metadata": {
  "colab": {
   "name": "Data_Telco.ipynb",
   "provenance": [],
   "collapsed_sections": [],
   "authorship_tag": "ABX9TyMon/s/3yjOTnwukAiVnX3o"
  },
  "kernelspec": {
   "name": "python3",
   "language": "python",
   "display_name": "Python 3"
  }
 },
 "cells": [
  {
   "cell_type": "markdown",
   "metadata": {
    "id": "Nepy5zdwBDCD",
    "colab_type": "text"
   },
   "source": [
    "# **Data Science in Telco: Data Cleansing** \n",
    "\n",
    "## Tugas dan Langkah\n",
    "\n",
    "Sebagai seorang data scientist, kamu diminta untuk menyiapkan data sebelum di lakukan permodelan.\n",
    "\n",
    "Pada tugas kali ini, kamu akan melakukan Data Prepocessing (Data Cleansing) bulan lalu, yakni Juni 2020.\n",
    "\n",
    "*Langkah yang akan dilakukan adalah,*\n",
    "\n",
    "*   Mencari ID pelanggan (Nomor telphone) yang valid\n",
    "\n",
    "*   Mengatasi data-data yang masih kosong (Missing Values)\n",
    "\n",
    "*   Mengatasi Nilai-Nilai Pencilan (Outlier) dari setiap Variable\n",
    "\n",
    "*   Menstandarisasi Nilai dari Variable\n"
   ]
  },
  {
   "cell_type": "markdown",
   "metadata": {
    "id": "kA1o0n9kAgxt",
    "colab_type": "text"
   },
   "source": [
    "## **Library yang Digunakan**\n",
    "\n",
    "Pada analisis kali ini, akan digunakan beberapa package yang membantu kita dalam melakukan analisis data,\n",
    "\n",
    "\n",
    "### **Pandas**\n",
    "Pandas (Python for Data Analysis) adalah library Python yang fokus untuk proses analisis data seperti manipulasi data, persiapan data, dan pembersihan data.\n",
    "\n",
    "*  read_csv() digunakan untuk membaca file csv\n",
    "*  str.match() digunakan untuk mencocokan dengan karakter tertentu\n",
    "*  drop() digunakan untuk menghapus\n",
    "*  count() digunakan untuk mengitung masing-masing variable\n",
    "*  drop_duplicates() digunakan untuk menghapus data duplicate rows\n",
    "*  fillna() digunakan untuk mengisi dengan nilai tertentu\n",
    "*  quantile() digunakan untuk melihat quantile ke tertentu\n",
    "*  mask() menganti nilai tertentu jika kondisi memenuhi\n",
    "*  astype() merunubah tipe data\n",
    "*  value_counts() digunakan untuk mengitung unik dari kolom\n",
    "*  sort_values() digunakan untuk sort values\n",
    "*  isnull() digunakan untuk mendeteksi missing values\n",
    "*  dropna() digunakan untuk menghapus missing values\n",
    "*  replace() digunakan untuk mengganti nilai\n",
    "### **Matplotlib**\n",
    "Matplotlib adalah library Python yang fokus pada visualisasi data seperti membuat plot grafik. Matplotlib dapat digunakan dalam skrip Python, Python dan IPython shell, server aplikasi web, dan beberapa toolkit graphical user interface (GUI) lainnya.\n",
    "\n",
    "* figure() digunakan untuk membuat figure gambar baru\n",
    "### **Seaborn**\n",
    "Seaborn membangun di atas Matplotlib dan memperkenalkan tipe plot tambahan. Ini juga membuat plot Matplotlib tradisional Anda terlihat sedikit lebih cantik\n",
    "\n",
    "* box_plot() digunakan untuk membuat box plot"
   ]
  },
  {
   "cell_type": "markdown",
   "metadata": {
    "id": "haECOrwQDGi5",
    "colab_type": "text"
   },
   "source": [
    "### **Data yang DIgunakan**\n",
    "\n",
    "Untuk Dataset yang digunakan sudah disediakan dalam format csv, silahkan baca melalui fungsi pandas di python df_load = pd.read_csv('https://dqlab-dataset.s3-ap-southeast-1.amazonaws.com/dqlab_telco.csv')\n",
    "\n",
    " \n",
    "*Untuk detil datanya adalah sebagai berikut:*\n",
    "\n",
    "\n",
    "*   UpdatedAt Periode of Data taken\n",
    "*   customerID Customer ID\n",
    "*  gender Whether the customer is a male or a female (Male, Female)\n",
    "*  SeniorCitizen Whether the customer is a senior citizen or not (1, 0)\n",
    "*  Partner Whether the customer has a partner or not (Yes, No)\n",
    "*  Dependents Whether the customer has dependents or not (Yes, No)\n",
    "*  tenure Number of months the customer has stayed with the company\n",
    "*  PhoneService Whether the customer has a phone service or not (Yes, No)\n",
    "*  MultipleLines Whether the customer has multiple lines or not (Yes, No, No * phone service)\n",
    "*  InternetService Customer’s internet service provider (DSL, Fiber optic, No)\n",
    "*  OnlineSecurity Whether the customer has online security or not (Yes, No, No internet service)\n",
    "*  OnlineBackup Whether the customer has online backup or not (Yes, No, No internet service)\n",
    "*  DeviceProtection Whether the customer has device protection or not (Yes, No, No internet service)\n",
    "*  TechSupport Whether the customer has tech support or not (Yes, No, No internet service)\n",
    "*  StreamingTV Whether the customer has streaming TV or not (Yes, No, No internet service)\n",
    "*  StreamingMovies Whether the customer has streaming movies or not (Yes, No, No internet service)\n",
    "*  Contract The contract term of the customer (Month-to-month, One year, Two year)\n",
    "*  PaperlessBilling Whether the customer has paperless billing or not (Yes, No)\n",
    "*  PaymentMethod The customer’s payment method (Electronic check, Mailed check, Bank transfer (automatic), Credit card (automatic))\n",
    "*  MonthlyCharges The amount charged to the customer monthly\n",
    "*  TotalCharges The total amount charged to the customer\n",
    "*  Churn Whether the customer churned or not (Yes or No)"
   ]
  },
  {
   "cell_type": "markdown",
   "metadata": {
    "id": "eNl7yyh8EG4D",
    "colab_type": "text"
   },
   "source": [
    "### **Import Library dan Dataset**\n",
    "Berdasarkan penjelasan mengenai library dan dataset yang akan digunakan, sekarang hal pertama yang akan kita lakukan adalah melakukan import library dan dataset ke dalam workspace kita.\n",
    "\n",
    "Setelah dataset di-import ke dalam workspace, tampilkan jumlah kolom dan baris dari data set dengan menggunakan .shape dan print 5 baris teratas dengan menggunakan head() dan carilah ada berapa nilai customerID yang bersifat unique dengan menggunakan .unique\n",
    "\n",
    "\n",
    "\n",
    "```\n",
    "import pandas as pd\n",
    "pd.options.display.max_columns = 50\n",
    "\n",
    "df_load = pd.read_csv('https://dqlab-dataset.s3-ap-southeast-1.amazonaws.com/dqlab_telco.csv')\n",
    "```\n",
    "\n",
    "Notes :\n",
    "\n",
    "1. pd.options.display.max_columns = 50 digunakan untuk mempermudah penampilan row data\n",
    "\n",
    "2. Simpan dataset ke dalam variabel df_load"
   ]
  },
  {
   "cell_type": "code",
   "metadata": {
    "id": "EhYvopDzESiG",
    "colab_type": "code",
    "colab": {
     "base_uri": "https://localhost:8080/",
     "height": 665
    },
    "outputId": "c8e7fdc5-e600-42e1-d840-4cbd7da1b7e4"
   },
   "source": [
    "import pandas as pd \n",
    "pd.options.display.max_columns = 50\n",
    "# importing data service \n",
    "df_load = pd.read_csv('https://dqlab-dataset.s3-ap-southeast-1.amazonaws.com/dqlab_telco.csv')\n",
    "print(df_load.shape)\n",
    "print(df_load.head())\n",
    "print(df_load['customerID'].nunique())"
   ],
   "execution_count": 2,
   "outputs": [
    {
     "name": "stdout",
     "output_type": "stream",
     "text": [
      "(7113, 22)\n",
      "   UpdatedAt   customerID  gender  SeniorCitizen Partner Dependents  tenure  \\\n",
      "0     202006  45759018157  Female              0     Yes         No     1.0   \n",
      "1     202006  45557574145    Male              0      No         No    34.0   \n",
      "2     202006  45366876421    Male              0      No         No     2.0   \n",
      "3     202006  45779536532    Male              0      No         No    45.0   \n",
      "4     202006  45923787906  Female              0      No         No     2.0   \n",
      "\n",
      "  PhoneService     MultipleLines InternetService OnlineSecurity OnlineBackup  \\\n",
      "0           No  No phone service             DSL             No          Yes   \n",
      "1          Yes                No             DSL            Yes           No   \n",
      "2          Yes                No             DSL            Yes          Yes   \n",
      "3           No  No phone service             DSL            Yes           No   \n",
      "4          Yes                No     Fiber optic             No           No   \n",
      "\n",
      "  DeviceProtection TechSupport StreamingTV StreamingMovies        Contract  \\\n",
      "0               No          No          No              No  Month-to-month   \n",
      "1              Yes          No          No              No        One year   \n",
      "2               No          No          No              No  Month-to-month   \n",
      "3              Yes         Yes          No              No        One year   \n",
      "4               No          No          No              No  Month-to-month   \n",
      "\n",
      "  PaperlessBilling              PaymentMethod  MonthlyCharges  TotalCharges  \\\n",
      "0              Yes           Electronic check           29.85         29.85   \n",
      "1               No               Mailed check           56.95       1889.50   \n",
      "2              Yes               Mailed check           53.85        108.15   \n",
      "3               No  Bank transfer (automatic)           42.30       1840.75   \n",
      "4              Yes           Electronic check           70.70        151.65   \n",
      "\n",
      "  Churn  \n",
      "0    No  \n",
      "1    No  \n",
      "2   Yes  \n",
      "3    No  \n",
      "4   Yes  \n",
      "7017\n"
     ]
    }
   ]
  },
  {
   "cell_type": "markdown",
   "metadata": {
    "id": "9yeukrrmFSK_",
    "colab_type": "text"
   },
   "source": [
    "### **Memfilter ID Number Pelanggan Format Tertentu**\n",
    "Mencari format ID Number (Phone Number) Pelanggan customerID yang benar, dengan kriteria:\n",
    "\n",
    "* Panjang karakter adalah 11-12.\n",
    "* Terdiri dari Angka Saja, tidak diperbolehkan ada karakter selain angka\n",
    "* Diawali dengan angka 45 2 digit pertama.\n",
    " \n",
    "Gunakan fungsi count() untuk menghitung banyaknya rows Customer ID, anda juga bisa menggunakan str.match() & regex untuk mencocokan dengan kriteria diatas. Jangan lupa gunakan astype() untuk merubah tipe datanya yang semula numeric\n",
    "\n",
    "**Notes : Buat kolom bantuan baru dengan nama valid_id**\n",
    "\n",
    "Hasil yang diharapkan adalah sebagai berikut.\n",
    "\n",
    "`Hasil jumlah ID Customer yang terfilter adalah 7006`"
   ]
  },
  {
   "cell_type": "code",
   "metadata": {
    "id": "swX5GG1GFhmj",
    "colab_type": "code",
    "colab": {
     "base_uri": "https://localhost:8080/",
     "height": 1000
    },
    "outputId": "f5ce0558-3810-4b44-e9df-0cde52f156bc"
   },
   "source": [
    "df_load['valid_id'] = df_load['customerID'].astype(str).str.match(r'(45\\d{9,10})')\n",
    "\n",
    "print(df_load)\n",
    "df_load = df_load[df_load['valid_id']==True].drop('valid_id',axis =1 )\n",
    "print('Hasil jumlah ID Customer yang terfilter adalah',df_load['customerID'].count())\n",
    "print(df_load.columns)"
   ],
   "execution_count": 3,
   "outputs": [
    {
     "name": "stdout",
     "output_type": "stream",
     "text": [
      "      UpdatedAt   customerID  gender  SeniorCitizen Partner Dependents  \\\n",
      "0        202006  45759018157  Female              0     Yes         No   \n",
      "1        202006  45557574145    Male              0      No         No   \n",
      "2        202006  45366876421    Male              0      No         No   \n",
      "3        202006  45779536532    Male              0      No         No   \n",
      "4        202006  45923787906  Female              0      No         No   \n",
      "...         ...          ...     ...            ...     ...        ...   \n",
      "7108     202006  45117219093    Male              0     Yes        Yes   \n",
      "7109     202006  45564915800  Female              0      No         No   \n",
      "7110     202006  45655964195    Male              0      No         No   \n",
      "7111     202006  45899251814    Male              0      No         No   \n",
      "7112     202006  45427332508  Female              0      No        Yes   \n",
      "\n",
      "      tenure PhoneService     MultipleLines InternetService OnlineSecurity  \\\n",
      "0        1.0           No  No phone service             DSL             No   \n",
      "1       34.0          Yes                No             DSL            Yes   \n",
      "2        2.0          Yes                No             DSL            Yes   \n",
      "3       45.0           No  No phone service             DSL            Yes   \n",
      "4        2.0          Yes                No     Fiber optic             No   \n",
      "...      ...          ...               ...             ...            ...   \n",
      "7108    53.0          Yes               Yes             DSL            Yes   \n",
      "7109    12.0          Yes                No     Fiber optic             No   \n",
      "7110    26.0          Yes                No     Fiber optic             No   \n",
      "7111    21.0          Yes                No             DSL             No   \n",
      "7112     1.0          Yes                No     Fiber optic             No   \n",
      "\n",
      "     OnlineBackup DeviceProtection TechSupport StreamingTV StreamingMovies  \\\n",
      "0             Yes               No          No          No              No   \n",
      "1              No              Yes          No          No              No   \n",
      "2             Yes               No          No          No              No   \n",
      "3              No              Yes         Yes          No              No   \n",
      "4              No               No          No          No              No   \n",
      "...           ...              ...         ...         ...             ...   \n",
      "7108          Yes               No          No          No             Yes   \n",
      "7109           No              Yes          No         Yes             Yes   \n",
      "7110           No              Yes         Yes         Yes             Yes   \n",
      "7111           No              Yes          No          No             Yes   \n",
      "7112           No               No          No         Yes             Yes   \n",
      "\n",
      "            Contract PaperlessBilling              PaymentMethod  \\\n",
      "0     Month-to-month              Yes           Electronic check   \n",
      "1           One year               No               Mailed check   \n",
      "2     Month-to-month              Yes               Mailed check   \n",
      "3           One year               No  Bank transfer (automatic)   \n",
      "4     Month-to-month              Yes           Electronic check   \n",
      "...              ...              ...                        ...   \n",
      "7108        Two year               No  Bank transfer (automatic)   \n",
      "7109        One year               No               Mailed check   \n",
      "7110  Month-to-month              Yes           Electronic check   \n",
      "7111  Month-to-month               No               Mailed check   \n",
      "7112  Month-to-month              Yes           Electronic check   \n",
      "\n",
      "      MonthlyCharges  TotalCharges Churn  valid_id  \n",
      "0              29.85         29.85    No      True  \n",
      "1              56.95       1889.50    No      True  \n",
      "2              53.85        108.15   Yes      True  \n",
      "3              42.30       1840.75    No      True  \n",
      "4              70.70        151.65   Yes      True  \n",
      "...              ...           ...   ...       ...  \n",
      "7108           69.70       3686.05   NaN      True  \n",
      "7109           95.50       1115.15   NaN      True  \n",
      "7110           98.65       2537.00   NaN      True  \n",
      "7111           61.65       1393.60   NaN      True  \n",
      "7112           89.35         89.35   NaN      True  \n",
      "\n",
      "[7113 rows x 23 columns]\n",
      "Hasil jumlah ID Customer yang terfilter adalah 7006\n",
      "Index(['UpdatedAt', 'customerID', 'gender', 'SeniorCitizen', 'Partner',\n",
      "       'Dependents', 'tenure', 'PhoneService', 'MultipleLines',\n",
      "       'InternetService', 'OnlineSecurity', 'OnlineBackup', 'DeviceProtection',\n",
      "       'TechSupport', 'StreamingTV', 'StreamingMovies', 'Contract',\n",
      "       'PaperlessBilling', 'PaymentMethod', 'MonthlyCharges', 'TotalCharges',\n",
      "       'Churn'],\n",
      "      dtype='object')\n"
     ]
    }
   ]
  },
  {
   "cell_type": "markdown",
   "metadata": {
    "id": "Bu6ttsM6G59L",
    "colab_type": "text"
   },
   "source": [
    "### **Memfilter Duplikasi ID Number Pelanggan**\n",
    "Memastikan bahwa tidak ada Id Number pelanggan yang duplikat. Biasanya duplikasi ID number ini tipenya:\n",
    "\n",
    "* Duplikasi dikarenakan inserting melebihi satu kali dengan nilai yang sama tiap kolomnya\n",
    "* Duplikasi dikarenakan inserting beda periode pengambilan data\n",
    "\n",
    "Gunakan hasil dari pengolahan di tahap sebelumnya df_load untuk di olah di tahap ini. Gunakan fungsi `drop_duplicates()` untuk menghapus duplikasi rows, dan gunakan `sort_valus()` untuk mengecek pengambilan data terakhir\n",
    "Berikut adalah hasil jumlah Customer ID :\n",
    "\n",
    "\n",
    "```\n",
    "Hasil jumlah ID Customer yang sudah dihilangkan duplikasinya (distinct) adalah 6993\n",
    "```\n",
    "\n",
    "\n"
   ]
  },
  {
   "cell_type": "code",
   "metadata": {
    "id": "BFJc2YJ5P-TU",
    "colab_type": "code",
    "colab": {
     "base_uri": "https://localhost:8080/",
     "height": 35
    },
    "outputId": "28bceaed-d8bd-4bd3-cc69-72571171d866"
   },
   "source": [
    "df_load.drop_duplicates()\n",
    "df_load = df_load.sort_values('UpdatedAt',ascending=False).drop_duplicates(['customerID'])\n",
    "\n",
    "print('Hasil jumlah ID Customer yang sudah dihilangkan duplikasinya adalah',df_load['customerID'].count())"
   ],
   "execution_count": 4,
   "outputs": [
    {
     "name": "stdout",
     "output_type": "stream",
     "text": [
      "Hasil jumlah ID Customer yang sudah dihilangkan duplikasinya adalah 6993\n"
     ]
    }
   ]
  },
  {
   "cell_type": "markdown",
   "source": [
    "### **Kesimpulan**\n",
    "\n",
    "Validitas dari ID Number pelanggan sangat diperlukan untuk memastikan bahwa data yang kita ambil sudah benar. Berdasarkan hasil tersbut, terdapat perbedaan jumlah nomor ID dari data pertama kali di load sampai dengan hasil akhir. Jumlah row data ketika pertama kali di load ada sebanyak 7113 rows dan 22 coloumns dengan 7017 jumlah ID yang Unique. Kemudian setelah di cek validitas dari ID pelanggan, maka tersisa 6993 rows data"
   ],
   "metadata": {
    "collapsed": false,
    "pycharm": {
     "name": "#%% md\n"
    }
   }
  },
  {
   "cell_type": "markdown",
   "source": [
    "### **Mengatasi Missing Values dengan Penghapusan Rows**\n",
    "Selanjutnya kita akan menghapus Rows dari data-data yang tidak terdeteksi apakah dia churn atau tidak. Di asumsikan data modeller hanya mau menerima data yang benar ada flag churn nya atau tidak.\n",
    "\n",
    "Gunakan isnull() digunakan untuk mendeteksi missing values dan dropna() untuk menghapus data yang missing values\n",
    "\n",
    "Berikut adalah hasil yang diharapkan :\n",
    "* Total missing values data dari kolom Churn 43\n",
    "* Total Rows dan kolom Data setelah dihapus data Missing Values adalah (6950, 22)\n"
   ],
   "metadata": {
    "collapsed": false
   }
  },
  {
   "cell_type": "code",
   "execution_count": 22,
   "outputs": [
    {
     "name": "stdout",
     "output_type": "stream",
     "text": [
      "Total missing values data dari kolom Churn  0\n",
      "Total Rows dan kolom Data setelah dihapus data Missing Values adalah (6950, 22)\n"
     ]
    }
   ],
   "source": [
    "print(\"Total missing values data dari kolom Churn \",df_load['Churn'].isnull().sum())\n",
    "df_load.dropna(subset = ['Churn'], inplace=True)\n",
    "print(\"Total Rows dan kolom Data setelah dihapus data Missing Values adalah\", df_load.shape)\n"
   ],
   "metadata": {
    "collapsed": false,
    "pycharm": {
     "name": "#%%\n"
    }
   }
  }
 ]
}