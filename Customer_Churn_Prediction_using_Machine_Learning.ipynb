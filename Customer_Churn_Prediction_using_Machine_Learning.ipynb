{
  "nbformat": 4,
  "nbformat_minor": 0,
  "metadata": {
    "accelerator": "GPU",
    "colab": {
      "name": "Customer_Churn_Prediction_using_Machine_Learning.ipynb",
      "provenance": [],
      "collapsed_sections": [],
      "include_colab_link": true
    },
    "kernelspec": {
      "display_name": "Python 3",
      "language": "python",
      "name": "python3"
    },
    "language_info": {
      "codemirror_mode": {
        "name": "ipython",
        "version": 3
      },
      "file_extension": ".py",
      "mimetype": "text/x-python",
      "name": "python",
      "nbconvert_exporter": "python",
      "pygments_lexer": "ipython3",
      "version": "3.7.6"
    }
  },
  "cells": [
    {
      "cell_type": "markdown",
      "metadata": {
        "id": "view-in-github",
        "colab_type": "text"
      },
      "source": [
        "<a href=\"https://colab.research.google.com/github/trijuhari/Data_science/blob/master/Customer_Churn_Prediction_using_Machine_Learning.ipynb\" target=\"_parent\"><img src=\"https://colab.research.google.com/assets/colab-badge.svg\" alt=\"Open In Colab\"/></a>"
      ]
    },
    {
      "cell_type": "markdown",
      "metadata": {
        "colab_type": "text",
        "id": "1aIOiV9AJgAn"
      },
      "source": [
        "## **Latar Belakang**\n",
        "DQLab Telco merupakan perusahaan Telco yang sudah mempunyai banyak cabang tersebar dimana-mana. Sejak berdiri pada tahun 2019, DQLab Telco konsisten untuk memperhatikan customer experience nya sehingga tidak akan di tinggalkan pelanggan.\n",
        "\n",
        "Walaupun baru berumur 1 tahun lebih sedikit, DQLab Telco sudah mempunyai banyak pelanggan yang beralih langganan ke kompetitior. Pihak management ingin mengurangi jumlah pelanggan yang beralih (churn) dengan menggunakan machine learning.\n",
        "\n",
        "Setelah kemarin kita mempersiapkan data sekaligus melakukan Cleansing, maka sekarang saatnya kita untuk membuat model yang tepat untuk memprediksi churn pelanggan.\n",
        "\n"
      ]
    },
    {
      "cell_type": "markdown",
      "metadata": {
        "colab_type": "text",
        "id": "aIIluPP6Jl7-"
      },
      "source": [
        "## **Tugas dan Langkah**\n",
        "Pada project part 1 kemarin kita telah melakukan Cleansing Data. Sekarang, sebagai data scientist kamu diminta untuk membuat model yang tepat.\n",
        "\n",
        "Pada tugas kali ini, kamu akan melakukan Pemodelan Machine Learning dengan menggunakan data bulan lalu, yakni Juni 2020.\n",
        "\n",
        "### **Langkah yang akan dilakukan adalah,**\n",
        "\n",
        "* Melakukan Exploratory Data Analysis\n",
        "* Melakukan Data Pre-Processing\n",
        "* Melakukan Pemodelan Machine Learning\n",
        "* Menentukan Model Terbaik"
      ]
    },
    {
      "cell_type": "markdown",
      "metadata": {
        "colab_type": "text",
        "id": "rV3BzciyJ1Zo"
      },
      "source": [
        "## **Library yang Digunakan**\n",
        "Pada analisis kali ini, akan digunakan beberapa package yang membantu kita dalam melakukan analisis data,\n",
        "\n",
        "Pandas (Python for Data Analysis) adalah library Python yang fokus untuk proses analisis data seperti manipulasi data, persiapan data, dan pembersihan data.\n",
        "\n",
        "\n",
        "```\n",
        "read_csv() digunakan untuk membaca file csv\n",
        "replace() digunakan untuk mengganti nilai\n",
        "value_counts() digunakan untuk mengitung unik dari kolom\n",
        "drop() digunakan untuk menghapus\n",
        "describe() digunakan untuk melihat deskripsi datanya\n",
        "value_counts() digunakan untuk mengitung unik dari kolom\n",
        "Matplotlib adalah library Python yang fokus pada visualisasi data seperti membuat plot grafik. Matplotlib dapat digunakan dalam skrip Python, Python dan IPython shell, server aplikasi web, dan beberapa toolkit graphical user interface (GUI) lainnya.\n",
        "figure() digunakan untuk membuat figure gambar baru\n",
        "subplots()digunakan untuk membuat gambar dan satu set subplot\n",
        "title()digunakan untuk memberi judul pada gambar\n",
        "ylabel()digunakan untuk memberi label sumbu Y pada gambar\n",
        "xlabel()digunakan untuk memberi label sumbu Y pada gambar\n",
        "pie()digunakan untuk membuat pie chart\n",
        "Seaborn membangun plot di atas Matplotlib dan memperkenalkan tipe plot tambahan. Ini juga membuat plot Matplotlib tradisional Anda terlihat lebih cantik.\n",
        "countplot() digunakan untuk membuat plot dengan jumlah pengamatan di setiap bin kategorik variable\n",
        "heatmap() Plot rectangular data as a color-encoded matrix\n",
        "Scikit-learn adalah library dalam Python yang menyediakan banyak algoritma Machine Learning baik untuk Supervised, Unsupervised Learning, maupun digunakan untuk mempreparasi data.\n",
        "\n",
        "LabelEncoder() digunakan untuk merubah nilai dari suatu variable menjadi 0 atau 1\n",
        "train_test_split() digunakan untuk membagi data menjadi 2 row bagian (Training & Testing)\n",
        "LogisticRegression() digunakan untuk memanggil algoritma Logistic Regression\n",
        "RandomForestClassifier() digunakan untuk memanggil algoritma Random Forest Classifier\n",
        "confusion_matrix() digunakan untuk membuat confusion matrix\n",
        "classification_report() digunakan untuk membuat classification report, yang dianataranya berisi akurasi model\n",
        "Xgboost adalah library dalam Python untuk algoritma extreme gradient boosting (xgboost)\n",
        "\n",
        "XGBClassifier() digunakan untuk memanggil algoritma XG Boost Classifier\n",
        "Pickle mengimplementasikan protokol biner untuk serializing dan de-serializing dari struktur objek Python.\n",
        "\n",
        "dump() digunakan untuk menyimpan\n",
        "```\n",
        "\n",
        "\n"
      ]
    },
    {
      "cell_type": "code",
      "metadata": {
        "colab_type": "code",
        "id": "IeSG4e2xJZ7g",
        "colab": {}
      },
      "source": [
        "import pandas as pd\n",
        "import numpy as np\n",
        "import matplotlib.pyplot as plt\n",
        "import seaborn as sns\n",
        "from sklearn.preprocessing import LabelEncoder\n",
        "from sklearn.model_selection import train_test_split\n",
        "from sklearn.linear_model import LogisticRegression\n",
        "from sklearn.ensemble import RandomForestClassifier\n",
        "from sklearn.ensemble import GradientBoostingClassifier\n",
        "from sklearn.metrics import confusion_matrix, classification_report\n",
        "import pickle\n",
        "from pathlib import Path"
      ],
      "execution_count": null,
      "outputs": []
    },
    {
      "cell_type": "markdown",
      "metadata": {
        "colab_type": "text",
        "id": "kFPegaYnLewY"
      },
      "source": [
        "## **Data yang DIgunakan**\n",
        "Untuk Dataset yang digunakan sudah disediakan dalam format csv, silahkan baca melalui fungsi pandas di python df_load = pd.read_csv('https://dqlab-dataset.s3-ap-southeast-1.amazonaws.com/dqlab_telco_final.csv')\n",
        "\n",
        " \n",
        "### **Untuk detil datanya adalah sebagai berikut:**\n",
        "\n",
        "    UpdatedAt Periode of Data taken\n",
        "    customerID Customer ID\n",
        "    gender Whether the customer is a male or a female (Male, Female)\n",
        "    SeniorCitizen Whether the customer is a senior citizen or not (Yes, No)\n",
        "    Partner Whether the customer has a partner or not (Yes, No)\n",
        "    tenure Number of months the customer has stayed with the company\n",
        "    PhoneService Whether the customer has a phone service or not (Yes, No)\n",
        "    InternetService Customer’s internet service provider (Yes, No)\n",
        "    StreamingTV Whether the customer has streaming TV or not (Yes, No)\n",
        "    PaperlessBilling Whether the customer has paperless billing or not (Yes, No)\n",
        "    MonthlyCharges The amount charged to the customer monthly\n",
        "    TotalCharges The total amount charged to the customer\n",
        "    Churn Whether the customer churned or not (Yes, No)"
      ]
    },
    {
      "cell_type": "code",
      "metadata": {
        "colab_type": "code",
        "id": "Rlt-okwWLyIm",
        "colab": {}
      },
      "source": [
        "df_load = pd.read_csv('https://dqlab-dataset.s3-ap-southeast-1.amazonaws.com/dqlab_telco_final.csv')"
      ],
      "execution_count": null,
      "outputs": []
    },
    {
      "cell_type": "code",
      "metadata": {
        "colab_type": "code",
        "id": "23as6AflEWj0",
        "colab": {
          "base_uri": "https://localhost:8080/",
          "height": 357
        },
        "outputId": "6025200e-7bbf-4605-c842-1e78949b11c5"
      },
      "source": [
        "df_load.info()"
      ],
      "execution_count": null,
      "outputs": [
        {
          "output_type": "stream",
          "text": [
            "<class 'pandas.core.frame.DataFrame'>\n",
            "RangeIndex: 6950 entries, 0 to 6949\n",
            "Data columns (total 13 columns):\n",
            " #   Column            Non-Null Count  Dtype  \n",
            "---  ------            --------------  -----  \n",
            " 0   UpdatedAt         6950 non-null   int64  \n",
            " 1   customerID        6950 non-null   int64  \n",
            " 2   gender            6950 non-null   object \n",
            " 3   SeniorCitizen     6950 non-null   object \n",
            " 4   Partner           6950 non-null   object \n",
            " 5   tenure            6950 non-null   int64  \n",
            " 6   PhoneService      6950 non-null   object \n",
            " 7   StreamingTV       6950 non-null   object \n",
            " 8   InternetService   6950 non-null   object \n",
            " 9   PaperlessBilling  6950 non-null   object \n",
            " 10  MonthlyCharges    6950 non-null   float64\n",
            " 11  TotalCharges      6950 non-null   float64\n",
            " 12  Churn             6950 non-null   object \n",
            "dtypes: float64(2), int64(3), object(8)\n",
            "memory usage: 706.0+ KB\n"
          ],
          "name": "stdout"
        }
      ]
    },
    {
      "cell_type": "code",
      "metadata": {
        "colab_type": "code",
        "id": "W1RV18EpEwQE",
        "colab": {
          "base_uri": "https://localhost:8080/",
          "height": 224
        },
        "outputId": "bc206033-d973-4866-cc62-be2c6de7408f"
      },
      "source": [
        "df_load.head()"
      ],
      "execution_count": null,
      "outputs": [
        {
          "output_type": "execute_result",
          "data": {
            "text/html": [
              "<div>\n",
              "<style scoped>\n",
              "    .dataframe tbody tr th:only-of-type {\n",
              "        vertical-align: middle;\n",
              "    }\n",
              "\n",
              "    .dataframe tbody tr th {\n",
              "        vertical-align: top;\n",
              "    }\n",
              "\n",
              "    .dataframe thead th {\n",
              "        text-align: right;\n",
              "    }\n",
              "</style>\n",
              "<table border=\"1\" class=\"dataframe\">\n",
              "  <thead>\n",
              "    <tr style=\"text-align: right;\">\n",
              "      <th></th>\n",
              "      <th>UpdatedAt</th>\n",
              "      <th>customerID</th>\n",
              "      <th>gender</th>\n",
              "      <th>SeniorCitizen</th>\n",
              "      <th>Partner</th>\n",
              "      <th>tenure</th>\n",
              "      <th>PhoneService</th>\n",
              "      <th>StreamingTV</th>\n",
              "      <th>InternetService</th>\n",
              "      <th>PaperlessBilling</th>\n",
              "      <th>MonthlyCharges</th>\n",
              "      <th>TotalCharges</th>\n",
              "      <th>Churn</th>\n",
              "    </tr>\n",
              "  </thead>\n",
              "  <tbody>\n",
              "    <tr>\n",
              "      <th>0</th>\n",
              "      <td>202006</td>\n",
              "      <td>45759018157</td>\n",
              "      <td>Female</td>\n",
              "      <td>No</td>\n",
              "      <td>Yes</td>\n",
              "      <td>1</td>\n",
              "      <td>No</td>\n",
              "      <td>No</td>\n",
              "      <td>Yes</td>\n",
              "      <td>Yes</td>\n",
              "      <td>29.85</td>\n",
              "      <td>29.85</td>\n",
              "      <td>No</td>\n",
              "    </tr>\n",
              "    <tr>\n",
              "      <th>1</th>\n",
              "      <td>202006</td>\n",
              "      <td>45315483266</td>\n",
              "      <td>Male</td>\n",
              "      <td>No</td>\n",
              "      <td>Yes</td>\n",
              "      <td>60</td>\n",
              "      <td>Yes</td>\n",
              "      <td>No</td>\n",
              "      <td>No</td>\n",
              "      <td>Yes</td>\n",
              "      <td>20.50</td>\n",
              "      <td>1198.80</td>\n",
              "      <td>No</td>\n",
              "    </tr>\n",
              "    <tr>\n",
              "      <th>2</th>\n",
              "      <td>202006</td>\n",
              "      <td>45236961615</td>\n",
              "      <td>Male</td>\n",
              "      <td>No</td>\n",
              "      <td>No</td>\n",
              "      <td>5</td>\n",
              "      <td>Yes</td>\n",
              "      <td>Yes</td>\n",
              "      <td>Yes</td>\n",
              "      <td>No</td>\n",
              "      <td>104.10</td>\n",
              "      <td>541.90</td>\n",
              "      <td>Yes</td>\n",
              "    </tr>\n",
              "    <tr>\n",
              "      <th>3</th>\n",
              "      <td>202006</td>\n",
              "      <td>45929827382</td>\n",
              "      <td>Female</td>\n",
              "      <td>No</td>\n",
              "      <td>Yes</td>\n",
              "      <td>72</td>\n",
              "      <td>Yes</td>\n",
              "      <td>Yes</td>\n",
              "      <td>Yes</td>\n",
              "      <td>Yes</td>\n",
              "      <td>115.50</td>\n",
              "      <td>8312.75</td>\n",
              "      <td>No</td>\n",
              "    </tr>\n",
              "    <tr>\n",
              "      <th>4</th>\n",
              "      <td>202006</td>\n",
              "      <td>45305082233</td>\n",
              "      <td>Female</td>\n",
              "      <td>No</td>\n",
              "      <td>Yes</td>\n",
              "      <td>56</td>\n",
              "      <td>Yes</td>\n",
              "      <td>Yes</td>\n",
              "      <td>Yes</td>\n",
              "      <td>No</td>\n",
              "      <td>81.25</td>\n",
              "      <td>4620.40</td>\n",
              "      <td>No</td>\n",
              "    </tr>\n",
              "  </tbody>\n",
              "</table>\n",
              "</div>"
            ],
            "text/plain": [
              "   UpdatedAt   customerID  gender SeniorCitizen Partner  tenure PhoneService  \\\n",
              "0     202006  45759018157  Female            No     Yes       1           No   \n",
              "1     202006  45315483266    Male            No     Yes      60          Yes   \n",
              "2     202006  45236961615    Male            No      No       5          Yes   \n",
              "3     202006  45929827382  Female            No     Yes      72          Yes   \n",
              "4     202006  45305082233  Female            No     Yes      56          Yes   \n",
              "\n",
              "  StreamingTV InternetService PaperlessBilling  MonthlyCharges  TotalCharges  \\\n",
              "0          No             Yes              Yes           29.85         29.85   \n",
              "1          No              No              Yes           20.50       1198.80   \n",
              "2         Yes             Yes               No          104.10        541.90   \n",
              "3         Yes             Yes              Yes          115.50       8312.75   \n",
              "4         Yes             Yes               No           81.25       4620.40   \n",
              "\n",
              "  Churn  \n",
              "0    No  \n",
              "1    No  \n",
              "2   Yes  \n",
              "3    No  \n",
              "4    No  "
            ]
          },
          "metadata": {
            "tags": []
          },
          "execution_count": 4
        }
      ]
    },
    {
      "cell_type": "markdown",
      "metadata": {
        "colab_type": "text",
        "id": "a7uSPod8FIte"
      },
      "source": [
        "## **Data Description:**\n",
        "\n",
        "* UpdatedAt : Periode of Data taken\n",
        "* customerID : Customer ID\n",
        "* gender : Whether the customer is a male or a female (Male, Female)\n",
        "* SeniorCitizen : Whether the customer is a senior citizen or not (Yes, No)\n",
        "* Partner :Whether the customer has a partner or not (Yes, No)\n",
        "* tenure : Number of months the customer has stayed with the company\n",
        "* PhoneService : Whether the customer has a phone service or not (Yes, No)\n",
        "* InternetService : Customer’s internet service provider (Yes, No)\n",
        "* StreamingTV : Whether the customer has streaming TV or not (Yes, No)\n",
        "* PaperlessBilling : Whether the customer has paperless billing or not (Yes, No)\n",
        "* MonthlyCharges : The amount charged to the customer monthly\n",
        "* TotalCharges : The total amount charged to the customer\n",
        "* Churn : Whether the customer churned or not (Yes, No)"
      ]
    },
    {
      "cell_type": "code",
      "metadata": {
        "colab_type": "code",
        "id": "c2gftgxYE7Rk",
        "colab": {
          "base_uri": "https://localhost:8080/",
          "height": 34
        },
        "outputId": "6090e1ab-18ed-4bb1-a0b7-fa4902efd515"
      },
      "source": [
        "print(df_load.shape)"
      ],
      "execution_count": null,
      "outputs": [
        {
          "output_type": "stream",
          "text": [
            "(6950, 13)\n"
          ],
          "name": "stdout"
        }
      ]
    },
    {
      "cell_type": "code",
      "metadata": {
        "colab_type": "code",
        "id": "hURNHPfcGehn",
        "colab": {
          "base_uri": "https://localhost:8080/",
          "height": 34
        },
        "outputId": "66512eea-9549-48df-fa72-c490285a1887"
      },
      "source": [
        "print(df_load.customerID.nunique())"
      ],
      "execution_count": null,
      "outputs": [
        {
          "output_type": "stream",
          "text": [
            "6950\n"
          ],
          "name": "stdout"
        }
      ]
    },
    {
      "cell_type": "markdown",
      "metadata": {
        "colab_type": "text",
        "id": "C2amc-z3HAU4"
      },
      "source": [
        "# **Exploratory Data Analysis**"
      ]
    },
    {
      "cell_type": "code",
      "metadata": {
        "colab_type": "code",
        "id": "k3YrBWipHo79",
        "colab": {
          "base_uri": "https://localhost:8080/",
          "height": 279
        },
        "outputId": "b3678f2f-a8df-4454-ac00-16d88b71f02e"
      },
      "source": [
        "sns.countplot(x= 'Churn',data = df_load, palette='bwr')\n",
        "plt.show()"
      ],
      "execution_count": null,
      "outputs": [
        {
          "output_type": "display_data",
          "data": {
            "image/png": "[encoded data removed]",
            "text/plain": [
              "<Figure size 432x288 with 1 Axes>"
            ]
          },
          "metadata": {
            "tags": [],
            "needs_background": "light"
          }
        }
      ]
    },
    {
      "cell_type": "code",
      "metadata": {
        "colab_type": "code",
        "id": "vxbzri8EHrKk",
        "colab": {
          "base_uri": "https://localhost:8080/",
          "height": 264
        },
        "outputId": "68b39ddf-3aa9-491e-f41d-863308cb990e"
      },
      "source": [
        "#Create Churn dataframe\n",
        "churn = pd.DataFrame(df_load['Churn'].value_counts())\n",
        "labels = churn.index\n",
        "sizes =  churn.Churn\n",
        "\n",
        "fig1, ax1 = plt.subplots()\n",
        "ax1.pie(sizes, labels = labels, autopct=\"%1.1f%%\", shadow= True, startangle= 90)\n",
        "ax1.axis('equal')\n",
        "plt.title('Percentage of Churn Customer')\n",
        "plt.show()\n"
      ],
      "execution_count": null,
      "outputs": [
        {
          "output_type": "display_data",
          "data": {
            "image/png": "[encoded data removed]",
            "text/plain": [
              "<Figure size 432x288 with 1 Axes>"
            ]
          },
          "metadata": {
            "tags": []
          }
        }
      ]
    },
    {
      "cell_type": "code",
      "metadata": {
        "colab_type": "code",
        "id": "Qqxb0ifhPhQw",
        "colab": {
          "base_uri": "https://localhost:8080/",
          "height": 357
        },
        "outputId": "792a94bc-6dc4-4810-9f2d-f282619d895b"
      },
      "source": [
        "df_load.info()"
      ],
      "execution_count": null,
      "outputs": [
        {
          "output_type": "stream",
          "text": [
            "<class 'pandas.core.frame.DataFrame'>\n",
            "RangeIndex: 6950 entries, 0 to 6949\n",
            "Data columns (total 13 columns):\n",
            " #   Column            Non-Null Count  Dtype  \n",
            "---  ------            --------------  -----  \n",
            " 0   UpdatedAt         6950 non-null   int64  \n",
            " 1   customerID        6950 non-null   int64  \n",
            " 2   gender            6950 non-null   object \n",
            " 3   SeniorCitizen     6950 non-null   object \n",
            " 4   Partner           6950 non-null   object \n",
            " 5   tenure            6950 non-null   int64  \n",
            " 6   PhoneService      6950 non-null   object \n",
            " 7   StreamingTV       6950 non-null   object \n",
            " 8   InternetService   6950 non-null   object \n",
            " 9   PaperlessBilling  6950 non-null   object \n",
            " 10  MonthlyCharges    6950 non-null   float64\n",
            " 11  TotalCharges      6950 non-null   float64\n",
            " 12  Churn             6950 non-null   object \n",
            "dtypes: float64(2), int64(3), object(8)\n",
            "memory usage: 706.0+ KB\n"
          ],
          "name": "stdout"
        }
      ]
    },
    {
      "cell_type": "code",
      "metadata": {
        "colab_type": "code",
        "id": "zZAioGYPPmyT",
        "colab": {
          "base_uri": "https://localhost:8080/",
          "height": 390
        },
        "outputId": "223bdd35-8314-4be6-9135-a8805a0a9838"
      },
      "source": [
        "numerical_features = ['MonthlyCharges','TotalCharges','tenure']\n",
        "fig,ax = plt.subplots(1,3, figsize=(15,6))\n",
        "# Use the following code to plot two overlays of histogram per each numerical_features,\n",
        "# use a color of blue and orange, respectively\n",
        "\n",
        "df_load[df_load.Churn == \"Yes\"][numerical_features].hist(bins=20, color=\"Blue\", alpha=0.5, ax= ax)\n",
        "df_load[df_load.Churn == \"No\"][numerical_features].hist(bins=20, color=\"Orange\", alpha=0.5, ax= ax)\n",
        "plt.show()"
      ],
      "execution_count": null,
      "outputs": [
        {
          "output_type": "display_data",
          "data": {
            "image/png": "[encoded data removed]",
            "text/plain": [
              "<Figure size 1080x432 with 3 Axes>"
            ]
          },
          "metadata": {
            "tags": [],
            "needs_background": "light"
          }
        }
      ]
    },
    {
      "cell_type": "code",
      "metadata": {
        "colab_type": "code",
        "id": "UF9ehgPTbADl",
        "colab": {
          "base_uri": "https://localhost:8080/",
          "height": 869
        },
        "outputId": "0fded6e6-5530-426f-f0ac-2e2a8b75e5c0"
      },
      "source": [
        "sns.set(style='darkgrid')\n",
        "fig, ax = plt.subplots(3, 3, figsize=(14, 12))\n",
        "\n",
        "sns.countplot(data= df_load, x='gender', hue='Churn', ax=ax[0][0] )\n",
        "sns.countplot(data= df_load, x='Partner', hue='Churn', ax=ax[0][1] )\n",
        "sns.countplot(data= df_load, x='SeniorCitizen', hue='Churn', ax=ax[0][2] )\n",
        "sns.countplot(data= df_load, x='PhoneService', hue='Churn', ax=ax[1][0] )\n",
        "sns.countplot(data= df_load, x='StreamingTV', hue='Churn', ax=ax[1][1] )\n",
        "sns.countplot(data= df_load, x='InternetService', hue='Churn', ax=ax[1][2] )\n",
        "sns.countplot(data= df_load, x='PaperlessBilling', hue='Churn', ax=ax[2][1] )\n",
        "plt.tight_layout()"
      ],
      "execution_count": null,
      "outputs": [
        {
          "output_type": "display_data",
          "data": {
            "image/png": "[encoded data removed]",
            "text/plain": [
              "<Figure size 1008x864 with 9 Axes>"
            ]
          },
          "metadata": {
            "tags": []
          }
        }
      ]
    },
    {
      "cell_type": "markdown",
      "metadata": {
        "colab_type": "text",
        "id": "vpUz7HwYj96Y"
      },
      "source": [
        "\n",
        "## **Berdasarkan hasil dan analisa di atas dapat disimpulkan:**\n",
        "\n",
        "1. pada tahap C.1 dapat kita ketahui bahwa sebaran data secara kesuluruhan customer tidak melakukan churn, dengan detil Churn sebanyak 26% dan No Churn sebanyak 74%.\n",
        "\n",
        "\n",
        "2. pada tahap C.2 dapat kita ketahui bahwa untuk MonthlyCharges ada kecenderungan semakin kecil nilai biaya bulanan yang dikenakan, semakin kecil juga kecenderungan untuk melakukan Churn. Untuk TotalCharges terlihat tidak ada kecenderungan apapun terhadap Churn customers. Untuk tenure ada kecenderungan semakin lama berlangganan customer, semakin kecil kecenderungan untuk melakukan Churn.\n",
        "\n",
        "\n",
        "3. pada tahap C.3 dapat kita ketahui bahwa tidak ada perbedaan yang signifikan untuk orang melakukan churn dilihat dari faktor jenis kelamin (gender) dan layanan telfonnya (PhoneService). Akan tetapi ada kecenderungan bahwa orang yang melakukan churn adalah orang-orang yang tidak memiliki partner (partner: No), orang-orang yang statusnya adalah senior citizen(SeniorCitizen: Yes), orang-orang yang mempunyai layanan streaming TV (StreamingTV: Yes), orang-orang yang mempunyai layanan Internet (internetService: Yes) dan orang-orang yang tagihannya paperless (PaperlessBilling: Yes)."
      ]
    },
    {
      "cell_type": "markdown",
      "metadata": {
        "colab_type": "text",
        "id": "jBffjmRxkXrh"
      },
      "source": [
        "# **Removing Unnecessary Data ; customerID & UpdatedAt**\n"
      ]
    },
    {
      "cell_type": "markdown",
      "metadata": {
        "colab_type": "text",
        "id": "sl7-SHIWSIKf"
      },
      "source": [
        ""
      ]
    },
    {
      "cell_type": "code",
      "metadata": {
        "pycharm": {
          "name": "#%%\n"
        },
        "id": "X151Eo5-sogW",
        "colab_type": "code",
        "colab": {},
        "outputId": "053b5b67-ca06-4399-a96e-35859a1c2dd1"
      },
      "source": [
        "cleaned_df = df_load.drop(['customerID','UpdatedAt'], axis=1)\n",
        "cleaned_df.head()"
      ],
      "execution_count": null,
      "outputs": [
        {
          "output_type": "execute_result",
          "data": {
            "text/html": [
              "<div>\n",
              "<style scoped>\n",
              "    .dataframe tbody tr th:only-of-type {\n",
              "        vertical-align: middle;\n",
              "    }\n",
              "\n",
              "    .dataframe tbody tr th {\n",
              "        vertical-align: top;\n",
              "    }\n",
              "\n",
              "    .dataframe thead th {\n",
              "        text-align: right;\n",
              "    }\n",
              "</style>\n",
              "<table border=\"1\" class=\"dataframe\">\n",
              "  <thead>\n",
              "    <tr style=\"text-align: right;\">\n",
              "      <th></th>\n",
              "      <th>gender</th>\n",
              "      <th>SeniorCitizen</th>\n",
              "      <th>Partner</th>\n",
              "      <th>tenure</th>\n",
              "      <th>PhoneService</th>\n",
              "      <th>StreamingTV</th>\n",
              "      <th>InternetService</th>\n",
              "      <th>PaperlessBilling</th>\n",
              "      <th>MonthlyCharges</th>\n",
              "      <th>TotalCharges</th>\n",
              "      <th>Churn</th>\n",
              "    </tr>\n",
              "  </thead>\n",
              "  <tbody>\n",
              "    <tr>\n",
              "      <th>0</th>\n",
              "      <td>Female</td>\n",
              "      <td>No</td>\n",
              "      <td>Yes</td>\n",
              "      <td>1</td>\n",
              "      <td>No</td>\n",
              "      <td>No</td>\n",
              "      <td>Yes</td>\n",
              "      <td>Yes</td>\n",
              "      <td>29.85</td>\n",
              "      <td>29.85</td>\n",
              "      <td>No</td>\n",
              "    </tr>\n",
              "    <tr>\n",
              "      <th>1</th>\n",
              "      <td>Male</td>\n",
              "      <td>No</td>\n",
              "      <td>Yes</td>\n",
              "      <td>60</td>\n",
              "      <td>Yes</td>\n",
              "      <td>No</td>\n",
              "      <td>No</td>\n",
              "      <td>Yes</td>\n",
              "      <td>20.50</td>\n",
              "      <td>1198.80</td>\n",
              "      <td>No</td>\n",
              "    </tr>\n",
              "    <tr>\n",
              "      <th>2</th>\n",
              "      <td>Male</td>\n",
              "      <td>No</td>\n",
              "      <td>No</td>\n",
              "      <td>5</td>\n",
              "      <td>Yes</td>\n",
              "      <td>Yes</td>\n",
              "      <td>Yes</td>\n",
              "      <td>No</td>\n",
              "      <td>104.10</td>\n",
              "      <td>541.90</td>\n",
              "      <td>Yes</td>\n",
              "    </tr>\n",
              "    <tr>\n",
              "      <th>3</th>\n",
              "      <td>Female</td>\n",
              "      <td>No</td>\n",
              "      <td>Yes</td>\n",
              "      <td>72</td>\n",
              "      <td>Yes</td>\n",
              "      <td>Yes</td>\n",
              "      <td>Yes</td>\n",
              "      <td>Yes</td>\n",
              "      <td>115.50</td>\n",
              "      <td>8312.75</td>\n",
              "      <td>No</td>\n",
              "    </tr>\n",
              "    <tr>\n",
              "      <th>4</th>\n",
              "      <td>Female</td>\n",
              "      <td>No</td>\n",
              "      <td>Yes</td>\n",
              "      <td>56</td>\n",
              "      <td>Yes</td>\n",
              "      <td>Yes</td>\n",
              "      <td>Yes</td>\n",
              "      <td>No</td>\n",
              "      <td>81.25</td>\n",
              "      <td>4620.40</td>\n",
              "      <td>No</td>\n",
              "    </tr>\n",
              "  </tbody>\n",
              "</table>\n",
              "</div>"
            ],
            "text/plain": [
              "   gender SeniorCitizen Partner  tenure PhoneService StreamingTV  \\\n",
              "0  Female            No     Yes       1           No          No   \n",
              "1    Male            No     Yes      60          Yes          No   \n",
              "2    Male            No      No       5          Yes         Yes   \n",
              "3  Female            No     Yes      72          Yes         Yes   \n",
              "4  Female            No     Yes      56          Yes         Yes   \n",
              "\n",
              "  InternetService PaperlessBilling  MonthlyCharges  TotalCharges Churn  \n",
              "0             Yes              Yes           29.85         29.85    No  \n",
              "1              No              Yes           20.50       1198.80    No  \n",
              "2             Yes               No          104.10        541.90   Yes  \n",
              "3             Yes              Yes          115.50       8312.75    No  \n",
              "4             Yes               No           81.25       4620.40    No  "
            ]
          },
          "metadata": {
            "tags": []
          },
          "execution_count": 12
        }
      ]
    },
    {
      "cell_type": "markdown",
      "metadata": {
        "colab_type": "text",
        "id": "PvwbHxVKSQMu"
      },
      "source": [
        "# **Data Encoding**"
      ]
    },
    {
      "cell_type": "code",
      "metadata": {
        "colab_type": "code",
        "id": "wcfKo0RJSTbC",
        "colab": {
          "base_uri": "https://localhost:8080/",
          "height": 129
        },
        "outputId": "11202f26-af0f-4720-ba6e-21eb4ebb5183"
      },
      "source": [
        "from sklearn.preprocessing import LabelEncoder\n",
        "#Convert all the non-numeric columns to numerical data types\n",
        "for column in  cleaned_df.columns:\n",
        "  if cleaned_df[column].dtype == np.number: continue\n",
        "  cleaned_df[column]= LabelEncoder().fit_transform(cleaned_df[column])\n",
        "\n",
        "print(cleaned_df.describe())\n"
      ],
      "execution_count": null,
      "outputs": [
        {
          "output_type": "stream",
          "text": [
            "            gender  SeniorCitizen      Partner       tenure  PhoneService  \\\n",
            "count  6950.000000    6950.000000  6950.000000  6950.000000   6950.000000   \n",
            "mean      0.504317       0.162302     0.483309    32.415827      0.903741   \n",
            "std       0.500017       0.368754     0.499757    24.561336      0.294967   \n",
            "min       0.000000       0.000000     0.000000     0.000000      0.000000   \n",
            "25%       0.000000       0.000000     0.000000     9.000000      1.000000   \n",
            "50%       1.000000       0.000000     0.000000    29.000000      1.000000   \n",
            "75%       1.000000       0.000000     1.000000    55.000000      1.000000   \n",
            "max       1.000000       1.000000     1.000000    73.000000      1.000000   \n",
            "\n",
            "       StreamingTV  InternetService  PaperlessBilling  MonthlyCharges  \\\n",
            "count  6950.000000      6950.000000       6950.000000     6950.000000   \n",
            "mean      0.384317         0.783453          0.591942       64.992201   \n",
            "std       0.486468         0.411921          0.491509       30.032040   \n",
            "min       0.000000         0.000000          0.000000        0.000000   \n",
            "25%       0.000000         1.000000          0.000000       36.462500   \n",
            "50%       0.000000         1.000000          1.000000       70.450000   \n",
            "75%       1.000000         1.000000          1.000000       89.850000   \n",
            "max       1.000000         1.000000          1.000000      169.931250   \n",
            "\n",
            "       TotalCharges        Churn  \n",
            "count   6950.000000  6950.000000  \n",
            "mean    2286.058750     0.264173  \n",
            "std     2265.702553     0.440923  \n",
            "min       19.000000     0.000000  \n",
            "25%      406.975000     0.000000  \n",
            "50%     1400.850000     0.000000  \n",
            "75%     3799.837500     1.000000  \n",
            "max     8889.131250     1.000000  \n"
          ],
          "name": "stdout"
        }
      ]
    },
    {
      "cell_type": "markdown",
      "metadata": {
        "id": "jrGasnvAsogr",
        "colab_type": "text"
      },
      "source": [
        "## **Data Splitting : Splitting Train & Test Data**\n"
      ]
    },
    {
      "cell_type": "code",
      "metadata": {
        "pycharm": {
          "name": "#%%\n"
        },
        "id": "R8DYFNTasogs",
        "colab_type": "code",
        "colab": {}
      },
      "source": [
        "from  sklearn.model_selection import train_test_split\n",
        "# predictor  dan target\n",
        "X = cleaned_df.drop('Churn', axis=1)\n",
        "y = cleaned_df['Churn']\n",
        "# Splitting train and test\n",
        "x_train, x_test, y_train, y_test =train_test_split(X, y, test_size=0.3, random_state=42)"
      ],
      "execution_count": null,
      "outputs": []
    },
    {
      "cell_type": "markdown",
      "metadata": {
        "id": "eTsTggotsog0",
        "colab_type": "text"
      },
      "source": [
        "## **Checking the data splitting results**"
      ]
    },
    {
      "cell_type": "code",
      "metadata": {
        "pycharm": {
          "name": "#%%\n"
        },
        "id": "SaGO22XWsog1",
        "colab_type": "code",
        "colab": {},
        "outputId": "d2bcaafd-e7a8-491a-e06b-584f4700158a"
      },
      "source": [
        "# Print according to the expected result\n",
        "print(\"Jumlah baris dan kolom  dalam x_train adalah\", x_train.shape, ', sedangkan Jumlah baris dan kolom dari y_train adalah:', y_train.shape)\n",
        "print(\"Prisentase Churn di Data Training  adalah \", y_train.value_counts(normalize= True))\n",
        "print(\"Jumlah baris dan kolom  dalam x_test adalah\", x_test.shape, ', sedangkan Jumlah baris dan kolom dari y_test adalah:', y_test.shape)\n",
        "print(\"Prisentase Churn di Data TEst  adalah \", y_test.value_counts(normalize= True))\n",
        "\n"
      ],
      "execution_count": null,
      "outputs": [
        {
          "output_type": "stream",
          "text": [
            "Jumlah baris dan kolom  dalam x_train adalah (4865, 10) , sedangkan Jumlah baris dan kolom dari y_train adalah: (4865,)\n",
            "Prisentase Churn di Data Training  adalah  0    0.734841\n",
            "1    0.265159\n",
            "Name: Churn, dtype: float64\n",
            "Jumlah baris dan kolom  dalam x_test adalah (2085, 10) , sedangkan Jumlah baris dan kolom dari y_test adalah: (2085,)\n",
            "Prisentase Churn di Data TEst  adalah  0    0.738129\n",
            "1    0.261871\n",
            "Name: Churn, dtype: float64\n"
          ],
          "name": "stdout"
        }
      ]
    },
    {
      "cell_type": "markdown",
      "metadata": {
        "pycharm": {
          "name": "#%% md\n"
        },
        "id": "9xHLdlAasog9",
        "colab_type": "text"
      },
      "source": [
        "Setelah kita analisis lebih lanjut, ternyata ada kolom yang tidak dibutuhkuan dalam model, yaitu Id Number pelanggannya (customerID) & periode pengambilan datanya (UpdatedAt), maka hal ini perlu dihapus. Kemudian kita lanjut mengubah value dari data yang masih berbentuk string menjadi numeric melalui encoding, setelah dilakukan terlihat di persebaran datanya khususnya kolom min dan max dari masing masing variable sudah berubah menjadi 0 & 1. Tahap terakhir adalah membagi data menjadi 2 bagian untuk keperluan modelling, setelah dilakukan terlihat dari jumlah baris dan kolom masing-masing data sudah sesuai & prosentase kolom churn juga sama dengan data di awal, hal ini mengindikasikan bahwasannya data terpisah dengan baik dan benar."
      ]
    },
    {
      "cell_type": "markdown",
      "metadata": {
        "id": "ZuZy0fJUsog-",
        "colab_type": "text"
      },
      "source": [
        "## **Model Building 1 : Logistic Regression**"
      ]
    },
    {
      "cell_type": "code",
      "metadata": {
        "pycharm": {
          "name": "#%%\n"
        },
        "id": "90BqiSHWsog_",
        "colab_type": "code",
        "colab": {},
        "outputId": "1888cf08-121f-46c8-812c-aad5c0876ecf"
      },
      "source": [
        "from sklearn.linear_model import LogisticRegression\n",
        "log_model = LogisticRegression().fit(x_train, y_train)\n",
        "print(\"Model Logistic Regression yang terbentuk adalah \\n\", log_model)"
      ],
      "execution_count": null,
      "outputs": [
        {
          "output_type": "stream",
          "text": [
            "Model Logistic Regression yang terbentuk adalah \n",
            " LogisticRegression(C=1.0, class_weight=None, dual=False, fit_intercept=True,\n",
            "                   intercept_scaling=1, l1_ratio=None, max_iter=100,\n",
            "                   multi_class='auto', n_jobs=None, penalty='l2',\n",
            "                   random_state=None, solver='lbfgs', tol=0.0001, verbose=0,\n",
            "                   warm_start=False)\n"
          ],
          "name": "stdout"
        },
        {
          "output_type": "stream",
          "text": [
            "/home/tijeee/anaconda3/lib/python3.7/site-packages/sklearn/linear_model/_logistic.py:940: ConvergenceWarning: lbfgs failed to converge (status=1):\n",
            "STOP: TOTAL NO. of ITERATIONS REACHED LIMIT.\n",
            "\n",
            "Increase the number of iterations (max_iter) or scale the data as shown in:\n",
            "    https://scikit-learn.org/stable/modules/preprocessing.html\n",
            "Please also refer to the documentation for alternative solver options:\n",
            "    https://scikit-learn.org/stable/modules/linear_model.html#logistic-regression\n",
            "  extra_warning_msg=_LOGISTIC_SOLVER_CONVERGENCE_MSG)\n"
          ],
          "name": "stderr"
        }
      ]
    },
    {
      "cell_type": "markdown",
      "metadata": {
        "id": "0IRllTfysohE",
        "colab_type": "text"
      },
      "source": [
        "## **Model 1 Performance**\n",
        "### **Classification Report (Train Data)**"
      ]
    },
    {
      "cell_type": "code",
      "metadata": {
        "pycharm": {
          "name": "#%%\n"
        },
        "id": "bR4EzY3JsohF",
        "colab_type": "code",
        "colab": {},
        "outputId": "e1bad3a8-8134-4ad6-c45b-e59225663497"
      },
      "source": [
        "from sklearn.metrics import classification_report\n",
        "#predict\n",
        "y_train_pred  = log_model.predict(x_train)\n",
        "# Print classification report\n",
        "print('Classification Report Training Model (Logistic Regression) :')\n",
        "print(classification_report(y_train, y_train_pred))"
      ],
      "execution_count": null,
      "outputs": [
        {
          "output_type": "stream",
          "text": [
            "Classification Report Training Model (Logistic Regression) :\n",
            "              precision    recall  f1-score   support\n",
            "\n",
            "           0       0.83      0.90      0.87      3575\n",
            "           1       0.65      0.50      0.56      1290\n",
            "\n",
            "    accuracy                           0.79      4865\n",
            "   macro avg       0.74      0.70      0.71      4865\n",
            "weighted avg       0.78      0.79      0.79      4865\n",
            "\n"
          ],
          "name": "stdout"
        }
      ]
    },
    {
      "cell_type": "markdown",
      "metadata": {
        "pycharm": {
          "name": "#%% md\n"
        },
        "id": "2eT6rtO2sohJ",
        "colab_type": "text"
      },
      "source": [
        "## **Confusion Matrix (Train Data)**\n"
      ]
    },
    {
      "cell_type": "code",
      "metadata": {
        "pycharm": {
          "name": "#%%\n"
        },
        "id": "MtiT-R-hsohK",
        "colab_type": "code",
        "colab": {},
        "outputId": "02a3b306-7e5f-4962-e934-a8ae6ced3e5c"
      },
      "source": [
        "\n",
        "from sklearn.metrics import confusion_matrix\n",
        "from matplotlib import pyplot as plt\n",
        "import seaborn as sns\n",
        "\n",
        "# Form confusion matrix as a DataFrame\n",
        "confusion_matrix_df = pd.DataFrame((confusion_matrix(y_train, y_train_pred)), ('No churn', 'Churn'), ('No churn', 'Churn'))\n",
        "\n",
        "# Plot confusion matrix\n",
        "plt.figure()\n",
        "heatmap = sns.heatmap(confusion_matrix_df, annot=True, annot_kws={'size': 14}, fmt='d', cmap='YlGnBu')\n",
        "heatmap.yaxis.set_ticklabels(heatmap.yaxis.get_ticklabels(), rotation=0, ha='right', fontsize=14)\n",
        "heatmap.xaxis.set_ticklabels(heatmap.xaxis.get_ticklabels(), rotation=0, ha='right', fontsize=14)\n",
        "\n",
        "plt.title('Confusion Matrix for Training Model\\n(Logistic Regression)', fontsize=18, color='darkblue')\n",
        "plt.ylabel('True label', fontsize=14b\n",
        "plt.xlabel('Predicted label', fontsize=14)\n",
        "plt.tight_layout()\n",
        "plt.show()"
      ],
      "execution_count": null,
      "outputs": [
        {
          "output_type": "display_data",
          "data": {
            "image/png": "[encoded data removed]",
            "text/plain": [
              "<Figure size 432x288 with 2 Axes>"
            ]
          },
          "metadata": {
            "tags": []
          }
        }
      ]
    },
    {
      "cell_type": "code",
      "metadata": {
        "id": "uvQEdBXYsohO",
        "colab_type": "code",
        "colab": {},
        "outputId": "a0591382-2470-4dd5-a942-dae16035aeb6"
      },
      "source": [
        "confusion_matrix(y_train, y_train_pred)"
      ],
      "execution_count": null,
      "outputs": [
        {
          "output_type": "execute_result",
          "data": {
            "text/plain": [
              "array([[3225,  350],\n",
              "       [ 649,  641]])"
            ]
          },
          "metadata": {
            "tags": []
          },
          "execution_count": 22
        }
      ]
    },
    {
      "cell_type": "markdown",
      "metadata": {
        "id": "xrwbPR-MsohS",
        "colab_type": "text"
      },
      "source": [
        "## **Classification Report (Test Data)**"
      ]
    },
    {
      "cell_type": "code",
      "metadata": {
        "id": "DnPnKL1rsohT",
        "colab_type": "code",
        "colab": {},
        "outputId": "3c4883b6-3379-4bbc-c1f7-b53bde5ac4fc"
      },
      "source": [
        "from sklearn.metrics import classification_report\n",
        "# Predict\n",
        "y_tests_pred= log_model.predict(x_test)\n",
        "# Print classification report \n",
        "print('Classification Report Testing Model (Logistic Regression) :')\n",
        "print(classification_report(y_test, y_tests_pred))"
      ],
      "execution_count": null,
      "outputs": [
        {
          "output_type": "stream",
          "text": [
            "Classification Report Testing Model (Logistic Regression) :\n",
            "              precision    recall  f1-score   support\n",
            "\n",
            "           0       0.83      0.90      0.87      1539\n",
            "           1       0.64      0.48      0.55       546\n",
            "\n",
            "    accuracy                           0.79      2085\n",
            "   macro avg       0.73      0.69      0.71      2085\n",
            "weighted avg       0.78      0.79      0.78      2085\n",
            "\n"
          ],
          "name": "stdout"
        }
      ]
    },
    {
      "cell_type": "code",
      "metadata": {
        "pycharm": {
          "name": "#%%\n"
        },
        "id": "MpJOwJa-sohW",
        "colab_type": "code",
        "colab": {},
        "outputId": "78833a25-d785-4a61-ab09-8082a795c644"
      },
      "source": [
        "from sklearn.metrics import confusion_matrix\n",
        "from matplotlib import pyplot as plt\n",
        "import  seaborn as sns\n",
        "\n",
        "# Form confusion matrix as a DataFrame\n",
        "confusion_matrix_df = pd.DataFrame(confusion_matrix(y_test, y_tests_pred), ('No Churn', 'Churn'),('No Churn', 'Churn'))\n",
        "\n",
        "\n",
        "# Plot confusion matrix\n",
        "plt.figure()\n",
        "heatmap= sns.heatmap(confusion_matrix_df, annot=True, annot_kws={'size':14}, fmt='d', cmap='YlGnBu')\n",
        "heatmap.yaxis.set_ticklabels(heatmap.yaxis.get_ticklabels(), rotation=0, ha='right', fontsize=14)\n",
        "heatmap.xaxis.set_ticklabels(heatmap.xaxis.get_ticklabels(), rotation=0, ha='right', fontsize=14)\n",
        "\n",
        "plt.title('Confusion Matrix for Testing Model\\n(Logistic Regression)', fontsize=18, color='darkblue')\n",
        "plt.ylabel('True label', fontsize=14)\n",
        "plt.xlabel('Predicted label', fontsize=14)\n",
        "plt.tight_layout()\n",
        "plt.show()"
      ],
      "execution_count": null,
      "outputs": [
        {
          "output_type": "display_data",
          "data": {
            "image/png": "[encoded data removed]",
            "text/plain": [
              "<Figure size 432x288 with 2 Axes>"
            ]
          },
          "metadata": {
            "tags": []
          }
        }
      ]
    },
    {
      "cell_type": "markdown",
      "metadata": {
        "id": "66qpEp3ksohb",
        "colab_type": "text"
      },
      "source": [
        "Dari hasil dan analisa di atas, maka:\n",
        "\n",
        "1. Jika kita menggunakan menggunakan algoritma logistic regression dengan memanggil LogisticRegression() dari sklearn tanpa menambahi parameter apapun, maka yang dihasilkan adalah model dengan seting default dari sklearn, untuk detilnya bisa dilihat di dokumentasinya.\n",
        "\n",
        "2. Dari data training terlihat bahwasannya model mampu memprediksi data dengan menghasilkan akurasi sebesar 80%, dengan detil tebakan churn yang sebenernya benar churn adalah 638, tebakan tidak churn yang sebenernya tidak churn adalah 3237, tebakan tidak churn yang sebenernya benar churn adalah 652 dan tebakan churn yang sebenernya tidak churn adalah 338.\n",
        "\n",
        "3. Dari data testing terlihat bahwasannya model mampu memprediksi data dengan menghasilkan akurasi sebesar 79%, dengan detil tebakan churn yang sebenernya benar churn adalah 264, tebakan tidak churn yang sebenernya tidak churn adalah 1392, tebakan tidak churn yang sebenernya benar churn adalah 282 dan tebakan churn yang sebenernya tidak churn adalah 146."
      ]
    },
    {
      "cell_type": "markdown",
      "metadata": {
        "id": "2W4J2_vmsohb",
        "colab_type": "text"
      },
      "source": [
        "# **Model Building 3 : Gradient Boosting Classifier**"
      ]
    },
    {
      "cell_type": "code",
      "metadata": {
        "id": "6utzVryosohc",
        "colab_type": "code",
        "colab": {},
        "outputId": "0bec8b1f-ff85-4807-ae6d-484f4e3a221d"
      },
      "source": [
        "from sklearn.ensemble import GradientBoostingClassifier\n",
        "\n",
        "#TRAIN MODEL\n",
        "gbl_model = GradientBoostingClassifier().fit(x_train, y_train)\n",
        "print(gbl_model)"
      ],
      "execution_count": null,
      "outputs": [
        {
          "output_type": "stream",
          "text": [
            "GradientBoostingClassifier(ccp_alpha=0.0, criterion='friedman_mse', init=None,\n",
            "                           learning_rate=0.1, loss='deviance', max_depth=3,\n",
            "                           max_features=None, max_leaf_nodes=None,\n",
            "                           min_impurity_decrease=0.0, min_impurity_split=None,\n",
            "                           min_samples_leaf=1, min_samples_split=2,\n",
            "                           min_weight_fraction_leaf=0.0, n_estimators=100,\n",
            "                           n_iter_no_change=None, presort='deprecated',\n",
            "                           random_state=None, subsample=1.0, tol=0.0001,\n",
            "                           validation_fraction=0.1, verbose=0,\n",
            "                           warm_start=False)\n"
          ],
          "name": "stdout"
        }
      ]
    },
    {
      "cell_type": "markdown",
      "metadata": {
        "code_folding": [],
        "id": "Eo15FZpdsohh",
        "colab_type": "text"
      },
      "source": [
        "# **Model 3 Performance**\n",
        "## **Classification Report (Train Data)**"
      ]
    },
    {
      "cell_type": "code",
      "metadata": {
        "id": "bo0SkUAvsohi",
        "colab_type": "code",
        "colab": {},
        "outputId": "73ff66f0-21a3-4228-f8ce-68ee445b1d2a"
      },
      "source": [
        "from sklearn.metrics import classification_report\n",
        "# Predict\n",
        "y_train_pred= gbl_model.predict(x_train)\n",
        "# Print classification report \n",
        "print('Classification Report Training Model (Gradient Boosting) :')\n",
        "print(classification_report(y_train, y_train_pred))"
      ],
      "execution_count": null,
      "outputs": [
        {
          "output_type": "stream",
          "text": [
            "Classification Report Training Model (Gradient Boosting) :\n",
            "              precision    recall  f1-score   support\n",
            "\n",
            "           0       0.84      0.92      0.88      3575\n",
            "           1       0.70      0.53      0.60      1290\n",
            "\n",
            "    accuracy                           0.82      4865\n",
            "   macro avg       0.77      0.72      0.74      4865\n",
            "weighted avg       0.81      0.82      0.81      4865\n",
            "\n"
          ],
          "name": "stdout"
        }
      ]
    },
    {
      "cell_type": "markdown",
      "metadata": {
        "id": "HfpmQwEcsohn",
        "colab_type": "text"
      },
      "source": [
        "## **Confusion Matrix (Train Data)**"
      ]
    },
    {
      "cell_type": "code",
      "metadata": {
        "id": "sZVBwJB6sohn",
        "colab_type": "code",
        "colab": {},
        "outputId": "9fed9381-662a-40d3-d277-9c7ba5a0591a"
      },
      "source": [
        "\n",
        "from sklearn.metrics import confusion_matrix\n",
        "from matplotlib import pyplot as plt\n",
        "import seaborn as sns\n",
        "\n",
        "# Form confusion matrix as a DataFrame\n",
        "confusion_matrix_df = pd.DataFrame((confusion_matrix(y_train, y_train_pred)), ('No churn', 'Churn'), ('No churn', 'Churn'))\n",
        "\n",
        "# Plot confusion matrix\n",
        "plt.figure()\n",
        "heatmap = sns.heatmap(confusion_matrix_df, annot=True, annot_kws={'size': 14}, fmt='d', cmap='YlGnBu')\n",
        "heatmap.yaxis.set_ticklabels(heatmap.yaxis.get_ticklabels(), rotation=0, ha='right', fontsize=14)\n",
        "heatmap.xaxis.set_ticklabels(heatmap.xaxis.get_ticklabels(), rotation=0, ha='right', fontsize=14)\n",
        "\n",
        "plt.title('Confusion Matrix for Training Model\\n(Gradient Boosting)', fontsize=18, color='darkblue')\n",
        "plt.ylabel('True label', fontsize=14)\n",
        "plt.xlabel('Predicted label', fontsize=14)\n",
        "plt.tight_layout()\n",
        "plt.show()"
      ],
      "execution_count": null,
      "outputs": [
        {
          "output_type": "display_data",
          "data": {
            "image/png": "[encoded data removed]",
            "text/plain": [
              "<Figure size 432x288 with 2 Axes>"
            ]
          },
          "metadata": {
            "tags": []
          }
        }
      ]
    },
    {
      "cell_type": "markdown",
      "metadata": {
        "id": "bOBUNa7Bsohs",
        "colab_type": "text"
      },
      "source": [
        "## **Classification Report (Test Data)**"
      ]
    },
    {
      "cell_type": "code",
      "metadata": {
        "id": "Nov6ojfLsoht",
        "colab_type": "code",
        "colab": {},
        "outputId": "d260f132-0a1e-42ba-e1a0-f420998bffde"
      },
      "source": [
        "from sklearn.metrics import classification_report\n",
        "# Predict\n",
        "y_test_pred = gbl_model.predict(x_test)\n",
        "# Print classification report \n",
        "print('Classification Report Testing Model (Gradient Boosting) :')\n",
        "print(classification_report(y_test, y_test_pred))"
      ],
      "execution_count": null,
      "outputs": [
        {
          "output_type": "stream",
          "text": [
            "Classification Report Testing Model (Gradient Boosting) :\n",
            "              precision    recall  f1-score   support\n",
            "\n",
            "           0       0.83      0.91      0.87      1539\n",
            "           1       0.64      0.48      0.55       546\n",
            "\n",
            "    accuracy                           0.79      2085\n",
            "   macro avg       0.74      0.69      0.71      2085\n",
            "weighted avg       0.78      0.79      0.78      2085\n",
            "\n"
          ],
          "name": "stdout"
        }
      ]
    },
    {
      "cell_type": "code",
      "metadata": {
        "id": "stslQoA5soh1",
        "colab_type": "code",
        "colab": {},
        "outputId": "5831cd20-0627-422f-cb9c-f04e3811ad61"
      },
      "source": [
        "from sklearn.metrics import confusion_matrix\n",
        "from matplotlib import pyplot as plt\n",
        "import seaborn as sns\n",
        "\n",
        "# Form confusion matrix as a DataFrame\n",
        "confusion_matrix_df = pd.DataFrame((confusion_matrix(y_test, y_test_pred)), ('No churn', 'Churn'), ('No churn', 'Churn'))\n",
        "\n",
        "# Plot confusion matrix\n",
        "plt.figure()\n",
        "heatmap = sns.heatmap(confusion_matrix_df, annot=True, annot_kws={'size': 14}, fmt='d', cmap='YlGnBu')\n",
        "heatmap.yaxis.set_ticklabels(heatmap.yaxis.get_ticklabels(), rotation=0, ha='right', fontsize=14)\n",
        "heatmap.xaxis.set_ticklabels(heatmap.xaxis.get_ticklabels(), rotation=0, ha='right', fontsize=14)\n",
        "\n",
        "plt.title('Confusion Matrix for Testing Model\\n(Gradient Boosting)\\n', fontsize=18, color='darkblue')\n",
        "plt.ylabel('True label', fontsize=14)\n",
        "plt.xlabel('Predicted label', fontsize=14)\n",
        "plt.show()"
      ],
      "execution_count": null,
      "outputs": [
        {
          "output_type": "display_data",
          "data": {
            "image/png": "[encoded data removed]",
            "text/plain": [
              "<Figure size 432x288 with 2 Axes>"
            ]
          },
          "metadata": {
            "tags": []
          }
        }
      ]
    },
    {
      "cell_type": "code",
      "metadata": {
        "id": "5eVTJ21ysoh7",
        "colab_type": "code",
        "colab": {},
        "outputId": "6f4db856-afcb-4e72-f287-832076b442ca"
      },
      "source": [
        "confusion_matrix(y_test, y_test_pred)"
      ],
      "execution_count": null,
      "outputs": [
        {
          "output_type": "execute_result",
          "data": {
            "text/plain": [
              "array([[1394,  145],\n",
              "       [ 285,  261]])"
            ]
          },
          "metadata": {
            "tags": []
          },
          "execution_count": 34
        }
      ]
    },
    {
      "cell_type": "markdown",
      "metadata": {
        "id": "mVeCXxdqsoiB",
        "colab_type": "text"
      },
      "source": [
        "Dari hasil dan analisa di atas, maka:\n",
        "\n",
        "1. Jika kita menggunakan menggunakan algoritma Gradient Boosting dengan memanggil GradientBoostingClassifier() dari package sklearn tanpa menambahi parameter apapun, maka yang dihasilkan adalah model dengan seting default dari sklearn, untuk detilnya bisa dilihat di dokumentasinya.\n",
        "\n",
        "\n",
        "2. Dari data training terlihat bahwasannya model mampu memprediksi data dengan menghasilkan akurasi sebesar 82%, dengan detil tebakan churn yang sebenernya benar churn adalah 684, tebakan tidak churn yang sebenernya tidak churn adalah 3286, tebakan tidak churn yang sebenernya benar churn adalah 606 dan tebakan churn yang sebenernya tidak churn adalah 289.\n",
        "\n",
        "\n",
        "3. Dari data testing terlihat bahwasannya model mampu memprediksi data dengan menghasilkan akurasi sebesar 79%, dengan detil tebakan churn yang sebenernya benar churn adalah 261, tebakan tidak churn yang sebenernya tidak churn adalah 1394, tebakan tidak churn yang sebenernya benar churn adalah 285 dan tebakan churn yang sebenernya tidak churn adalah 145."
      ]
    },
    {
      "cell_type": "markdown",
      "metadata": {
        "id": "iWr1rRDesoiC",
        "colab_type": "text"
      },
      "source": [
        "## **Menentukan Algoritma Model Terbaik**\n",
        "\n",
        "\n",
        "Model yang baik adalah model yang mampu memberikan performa bagus di fase training dan testing model.\n",
        "\n",
        "Over-Fitting adalah suatu kondisi dimana model mampu memprediksi dengan sangat baik di fase training, akan tetapi tidak mampu memprediksi sama baiknya di fase testing. Under-Fitting adalah suatu kondisi dimana model kurang mampu memprediksi dengan baik di fase training, akan tetapi mampu memprediksi dengan baik di fase testing. Appropriate-Fitting adalah suatu kondisi dimana model mampu memprediksi dengan baik di fase training maupun di fase testing. Untuk detil jelasnya, bisa dilihat di ilustrasi di bawah ini:\n",
        "\n",
        "Selanjutnya kita akan menentukan model algoritma terbaik dari model yang sudah di lakukan di atas (Appropriate-Fitting), kemudian kita simpan sebagai file best_model_churn.pkl dengan tujuan untuk deployment model nantinya kita tidak perlu mengulang lagi pemodelan, cukup memanggil file tersebut saja. Simpan di file direktori sesuai dataset berada, kemudian check apakah file tersebut benar tersimpan atau tidak. Gunakan dump() dari pickle untuk menyimpan file. Anda bisa gunakan code dibawah ini untuk menyimpan file model untuk di coba di local laptop anda pribadi"
      ]
    },
    {
      "cell_type": "markdown",
      "metadata": {
        "id": "ooCymr9IsoiD",
        "colab_type": "text"
      },
      "source": [
        "## **Karena pada percobaan ini model terbaik adalah model Gradient Boosting dengan tingkat accuracy sebesar 79%, Precision 83%, dan recall 91% pada data test, dan memiliki nilai accuracy sebesar 82% pada data train. karenanya model yang akan disave adalah model tersebut,**"
      ]
    },
    {
      "cell_type": "code",
      "metadata": {
        "id": "M_F8iYpEsoiF",
        "colab_type": "code",
        "colab": {}
      },
      "source": [
        "#save dumple\n",
        "\n",
        "pickle.dump(gbl_model, open('best_model_churn.pkl','wb'))"
      ],
      "execution_count": null,
      "outputs": []
    },
    {
      "cell_type": "code",
      "metadata": {
        "id": "2lGAR98RsoiK",
        "colab_type": "code",
        "colab": {},
        "outputId": "42f6e25c-23c1-4ad4-8759-e5f4326e07e7"
      },
      "source": [
        "print(gbl_model)"
      ],
      "execution_count": null,
      "outputs": [
        {
          "output_type": "stream",
          "text": [
            "GradientBoostingClassifier(ccp_alpha=0.0, criterion='friedman_mse', init=None,\n",
            "                           learning_rate=0.1, loss='deviance', max_depth=3,\n",
            "                           max_features=None, max_leaf_nodes=None,\n",
            "                           min_impurity_decrease=0.0, min_impurity_split=None,\n",
            "                           min_samples_leaf=1, min_samples_split=2,\n",
            "                           min_weight_fraction_leaf=0.0, n_estimators=100,\n",
            "                           n_iter_no_change=None, presort='deprecated',\n",
            "                           random_state=None, subsample=1.0, tol=0.0001,\n",
            "                           validation_fraction=0.1, verbose=0,\n",
            "                           warm_start=False)\n"
          ],
          "name": "stdout"
        }
      ]
    },
    {
      "cell_type": "markdown",
      "metadata": {
        "id": "UHr94Mo3soiP",
        "colab_type": "text"
      },
      "source": [
        "Berdasarkan pemodelan yang telah dilakukan dengan menggunakan Logistic Regression, Random Forest dan Extreme Gradiant Boost, maka dapat disimpulkan untuk memprediksi churn dari pelanggan telco dengan menggunakan dataset ini model terbaiknya adalah menggunakan algortima Extreme Gradient Boosting. Hal ini dikarenakan performa dari model Logistic Regression cenderung mampu memprediksi sama baiknya di fase training maupun testing (akurasi training 82%, akurasi testing 79%), dilain sisi algoritma lainnya khususnya pada Random Forest cenderung Over-Fitting performanya. Adapun pada Logistic Regression, sebenarnya juga cukup baik dan hampir sama dengan hasil Extreme Gradient Boosting, akan tetapi nilai accuracy pada data training nya tidak sebaik Akan tetapi hal ini tidak menjadikan kita untuk menarik kesimpulan bahwsannya jika untuk melakukan pemodelan apapun maka digunakan Gradient Boosting, kita tetap harus melakukan banyak percobaan model untuk menentukan mana yang terbaik."
      ]
    }
  ]
}