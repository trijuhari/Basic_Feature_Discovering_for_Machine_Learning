{
  "nbformat": 4,
  "nbformat_minor": 0,
  "metadata": {
    "colab": {
      "name": "Usage Funnels.ipynb",
      "provenance": [],
      "authorship_tag": "ABX9TyN7NRcNXbn+WirS+tVTYvqV",
      "include_colab_link": true
    },
    "kernelspec": {
      "name": "python3",
      "display_name": "Python 3"
    }
  },
  "cells": [
    {
      "cell_type": "markdown",
      "metadata": {
        "id": "view-in-github",
        "colab_type": "text"
      },
      "source": [
        "<a href=\"https://colab.research.google.com/github/trijuhari/Data_science/blob/master/Usage_Funnels.ipynb\" target=\"_parent\"><img src=\"https://colab.research.google.com/assets/colab-badge.svg\" alt=\"Open In Colab\"/></a>"
      ]
    },
    {
      "cell_type": "markdown",
      "metadata": {
        "id": "s_JmOaYOZqkF",
        "colab_type": "text"
      },
      "source": [
        "## **Usage Funnels**\n",
        "LESSON\n",
        "Building funnels from a single table and multiple tables and comparing funnels for A/B Tests.\n",
        "\n",
        "## **What is a Funnel?**\n",
        "In the world of marketing analysis, “funnel” is a word you will hear time and time again.\n",
        "\n",
        "A funnel is a marketing model which illustrates the theoretical customer journey towards the purchase of a product or service. Oftentimes, we want to track how many users complete a series of steps and know which steps have the most number of users giving up.\n",
        "\n",
        "Some examples include:\n",
        "\n",
        "Answering each part of a 5 question survey on customer satisfaction\n",
        "Clicking “Continue” on each step of a set of 5 onboarding modals\n",
        "Browsing a selection of products → Viewing a shopping cart → Making a purchase\n",
        "Generally, we want to know the total number of users in each step of the funnel, as well as the percent of users who complete each step.\n",
        "\n",
        "Throughout this lesson, we will be working with data from a fictional company called Mattresses and More. Using SQL, you can dive into complex funnels and event flow analysis to gain insights into their users’ behavior.\n",
        "\n",
        "![alt text](https://s3.amazonaws.com/codecademy-content/courses/sql-intensive/funnels.svg)\n",
        "\n"
      ]
    },
    {
      "cell_type": "markdown",
      "metadata": {
        "id": "rt3_ECJeaKmE",
        "colab_type": "text"
      },
      "source": [
        "## **Build a Funnel From a Single Table**\n",
        "Mattresses and More users were asked to answer a five-question survey:\n",
        "\n",
        "    “How likely are you to recommend Mattresses and More to a friend?”\n",
        "    “Which Mattresses and More location do you shop at?”\n",
        "    “How old are you?”\n",
        "    “What is your gender?”\n",
        "    “What is your annual household income?”\n",
        "    However, not every user finished the survey!\n",
        "\n",
        "We want to build a funnel to analyze if certain questions prompted users to stop working on the survey.\n",
        "\n",
        "We will be using a table called survey_responses with the following columns:\n",
        "\n",
        " \n",
        "Start by getting a feel for the survey_responses table.\n",
        "\n",
        "Select all columns for the first 10 rec\n",
        "\n",
        "    SELECT question_text, COUNT(DISTINCT user_id)\n",
        "    from survey_responses\n",
        "    group by 1;"
      ]
    },
    {
      "cell_type": "markdown",
      "metadata": {
        "id": "sFiKCPPxc5nb",
        "colab_type": "text"
      },
      "source": [
        "## **Survey Result**\n",
        "We could use SQL to calculate the percent change between each question, but it’s just as easy to analyze these manually with a calculator or in a spreadsheet program like Microsoft Excel or Google Sheets.\n",
        "\n",
        "If we divide the number of people completing each step by the number of people completing the previous step:\n",
        "\n",
        "    Question\tPercent Completed this Question\n",
        "    1\t          100%\n",
        "    2\t          95%\n",
        "    3\t          82%\n",
        "    4\t          95%\n",
        "    5\t          74%\n",
        "\n",
        "We see that Questions 2 and 4 have high completion rates, but Questions 3 and 5 have lower rates.\n",
        "\n",
        " ![alt text](https://s3.amazonaws.com/codecademy-content/courses/sql-intensive/survey.svg)\n",
        "\n",
        " "
      ]
    },
    {
      "cell_type": "markdown",
      "metadata": {
        "id": "rXJjKBIRdfSn",
        "colab_type": "text"
      },
      "source": [
        "## **Compare Funnels For A/B Tests**\n",
        "Mattresses and More has an onboarding workflow for new users of their website. It uses modal pop-ups to welcome users and show them important features of the site like:\n",
        "\n",
        "    Welcome to Mattresses and More!\n",
        "    Browse our bedding selection\n",
        "    Select items to add to your cart\n",
        "    View your cart by clicking on the icon\n",
        "    Press ‘Buy Now!’ when you’re ready to checkout\n",
        "    The Product team at Mattresses and More has created a new design for the    pop-ups that they believe will lead more users to complete the workflow.\n",
        "\n",
        "They’ve set up an A/B test where:\n",
        "\n",
        "    50% of users view the original control version of the pop-ups\n",
        "    50% of users view the new variant version of the pop-ups\n",
        "Eventually, we’ll want to answer the question:\n",
        "\n",
        "How is the funnel different between the two groups?\n",
        "\n",
        "We will be using a table called onboarding_modals with the following columns:\n",
        "\n",
        "    user_id - the user identifier\n",
        "    modal_text - the modal step\n",
        "    user_action - the user response (Close Modal or Continue)\n",
        "    ab_group - the version (control or variant)\n",
        "\n",
        "    Try using a GROUP BY statement to calculate COUNT(DISTINCT user_id) for each modal_text.\n",
        "\n",
        "And don’t forget ORDER BY to sort.\n",
        "\n",
        "    SELECT modal_text, \n",
        "    COUNT(DISTINCT user_id)\n",
        "    FROM onboarding_modals\n",
        "    GROUP BY 1\n",
        "    ORDER BY 1;\n",
        "\n",
        "Result\n",
        "```\n",
        "Modal 1 - 1000\n",
        "Modal 2 - 695\n",
        "Modal 3 - 575\n",
        "Modal 4 - 447\n",
        "Modal 5 - 379\n",
        "```"
      ]
    },
    {
      "cell_type": "markdown",
      "metadata": {
        "id": "ExSIIr9py33z",
        "colab_type": "text"
      },
      "source": [
        "## **A/B Tests Results**\n",
        "Incredible! After some quick math:\n",
        "\n",
        "    Modal\tControl Percent\tVariant Percent\n",
        "    1\t        100%\t           100%\n",
        "    2\t        60%\t             79%\n",
        "    3\t        80%\t             85%\n",
        "    4\t        80%                 80%\n",
        "    5\t        85%\t             85%\n",
        "* During Modal 2, variant has a 79% completion rate compared to control‘s 60%\n",
        "* During Modal 3, variant has a 85% completion rate compared to control‘s 80%\n",
        "\n",
        "* All other steps have the same level of completion\n",
        "This result tells us that the variant has greater completion!\n",
        "\n",
        "![alt text](https://content.codecademy.com/courses/updated_images/onboarding_Updated_1-01.svg)"
      ]
    },
    {
      "cell_type": "markdown",
      "metadata": {
        "id": "dM7Bl2_F0XYk",
        "colab_type": "text"
      },
      "source": [
        "## **Build a Funnel from Multiple Tables 1**\n",
        "Scenario: Mattresses and More sells bedding essentials from their e-commerce store. Their purchase funnel is:\n",
        "\n",
        "    The user browses products and adds them to their cart\n",
        "    The user proceeds to the checkout page\n",
        "    The user enters credit card information and makes a purchase\n",
        "Three steps! Simple and easy.\n",
        "\n",
        "As a sales analyst, you want to examine data from the shopping days before Christmas. As Christmas approaches, you suspect that customers become more likely to purchase items in their cart (i.e., they move from window shopping to buying presents).\n",
        "\n",
        "The data for Mattresses and More is spread across several tables:\n",
        "\n",
        "* browse - each row in this table represents an item that a user has added to his shopping cart\n",
        "* checkout - each row in this table represents an item in a cart that has been checked out\n",
        "*  purchase - each row in this table represents an item that has been purchased\n",
        "Instructions\n",
        "1.\n",
        "Let’s examine each table. Note that each user has multiple rows representing the different items that she has placed in her cart.\n",
        "\n",
        "    SELECT *\n",
        "    FROM browse\n",
        "    LIMIT 5;\n",
        "\n",
        "    SELECT *\n",
        "    FROM checkout\n",
        "    LIMIT 5;\n",
        "\n",
        "SELECT *\n",
        "FROM purchase\n",
        "LIMIT 5;\n",
        "What are the column names in each table?\n",
        "\n",
        "    The browse table has the following columns:\n",
        "\n",
        "    user_id\n",
        "    browse_date\n",
        "    item_id\n",
        "    The checkout table has the following columns:\n",
        "\n",
        "    user_id\n",
        "    checkout_date\n",
        "    item_id\n",
        "    The purchase table has the following columns:\n",
        "\n",
        "    user_id\n",
        "    purchase_date\n",
        "    item_id"
      ]
    },
    {
      "cell_type": "markdown",
      "metadata": {
        "id": "cKzBTRN906TT",
        "colab_type": "text"
      },
      "source": [
        "## **Build a Funnel from Multiple Tables 2**\n",
        "First, we want to combine the information from the three tables (browse, checkout, purchase) into one table with the following schema:\n",
        "\n",
        "    browser_date\tuser_id\tis_checkout\tis_purchase\n",
        "    2017-12-20\t6a7617321513\tTrue\tFalse\n",
        "    2017-12-20\t022d871cdcde\tFalse\tFalse\n",
        "    …\t…\t…\t…\n",
        "\n",
        "Each row will represent a single user:\n",
        "\n",
        "* If the user has any entries in checkout, then is_checkout will be True.\n",
        "* If the user has any entries in purchase, then is_purchase will be True.\n",
        "* If we use an INNER JOIN to create this table, we’ll lose information from any customer who does not have a row in the checkout or purchase table.\n",
        "\n",
        "Therefore, we’ll need to use a series of LEFT JOIN commands.\n",
        "\n",
        "Instructions\n",
        "1.\n",
        "Start by selecting all rows (*) from the LEFT JOIN of:\n",
        "\n",
        "browse (aliased as b)\n",
        "checkout (aliased as c)\n",
        "purchase (aliased as p)\n",
        "Be sure to use this order to make sure that we get all of the rows.\n",
        "\n",
        "LIMIT your results to the first 50 so that it loads quickly.\n",
        "\n",
        "    SELECT * FROM browse as 'b'\n",
        "    left join  checkout as 'c'\n",
        "    on  c.user_id = b.user_id\n",
        "    left join purchase as 'p'\n",
        "    on p.user_id = b.user_id\n",
        "    limit 50;"
      ]
    },
    {
      "cell_type": "markdown",
      "metadata": {
        "id": "vX6-O06y190u",
        "colab_type": "text"
      },
      "source": [
        "But we don’t want all of these columns in the result!\n",
        "\n",
        "Instead of selecting all columns using *, let’s select these four:\n",
        "\n",
        "    DISTINCT b.browse_date\n",
        "    b.user_id\n",
        "    c.user_id IS NOT NULL AS 'is_checkout'\n",
        "    p.user_id IS NOT NULL AS 'is_purchase'\n",
        "Edit your query so that you select these columns.\n",
        "\n",
        "\n",
        "    SELECT distinct b.browse_date, b.user_id,\n",
        "      c.user_id is not null as  'is_checkout',\n",
        "      p.user_id IS NOT NULL AS 'is_purchase'\n",
        "\n",
        "    FROM browse as 'b'\n",
        "    left join  checkout as 'c'\n",
        "    on  c.user_id = b.user_id\n",
        "    left join purchase as 'p'\n",
        "    on p.user_id = b.user_id\n",
        "    limit 50;\n",
        "\n",
        "\n"
      ]
    },
    {
      "cell_type": "markdown",
      "metadata": {
        "id": "aQLfxIC16w_K",
        "colab_type": "text"
      },
      "source": [
        "## **First, add a column that counts the total number of rows in funnels.**\n",
        "\n",
        "Alias this column as ‘num_browse’.\n",
        "\n",
        "This is the number of users in the “browse” step of the funnel.\n",
        "\n",
        "    WITH funnels AS (\n",
        "      SELECT DISTINCT b.browse_date,\n",
        "        b.user_id,\n",
        "        c.user_id IS NOT NULL AS 'is_checkout',\n",
        "        p.user_id IS NOT NULL AS 'is_purchase'\n",
        "      FROM browse AS 'b'\n",
        "      LEFT JOIN checkout AS 'c'\n",
        "        ON c.user_id = b.user_id\n",
        "      LEFT JOIN purchase AS 'p'\n",
        "        ON p.user_id = c.user_id)\n",
        "    SELECT count(*) as 'num_browse'\n",
        "    from  funnels;"
      ]
    },
    {
      "cell_type": "markdown",
      "metadata": {
        "id": "CyXTfM_Q7OxS",
        "colab_type": "text"
      },
      "source": [
        "## **Second, add another column that sums the is_checkout in funnels.**\n",
        "\n",
        "Alias this column as ‘num_checkout’.\n",
        "\n",
        "This is the number of users in the “checkout” step of the funnel.\n",
        "\n",
        "    WITH funnels AS (\n",
        "      SELECT DISTINCT b.browse_date,\n",
        "        b.user_id,\n",
        "        c.user_id IS NOT NULL AS 'is_checkout',\n",
        "        p.user_id IS NOT NULL AS 'is_purchase'\n",
        "      FROM browse AS 'b'\n",
        "      LEFT JOIN checkout AS 'c'\n",
        "        ON c.user_id = b.user_id\n",
        "      LEFT JOIN purchase AS 'p'\n",
        "        ON p.user_id = c.user_id)\n",
        "    SELECT count(*) as 'num_browse',\n",
        "    sum(is_checkout) as 'num_checkout'\n",
        "    from  funnels;"
      ]
    },
    {
      "cell_type": "markdown",
      "metadata": {
        "id": "tgIs4vSg7jIj",
        "colab_type": "text"
      },
      "source": [
        "## **Third, add another column that sums the is_purchase column in funnels.**\n",
        "\n",
        "Alias this column as ‘num_purchase’.\n",
        "\n",
        "This is the number of users in the “purchase” step of the funnel.\n",
        "\n",
        "\n",
        "    WITH funnels AS (\n",
        "      SELECT DISTINCT b.browse_date,\n",
        "        b.user_id,\n",
        "        c.user_id IS NOT NULL AS 'is_checkout',\n",
        "        p.user_id IS NOT NULL AS 'is_purchase'\n",
        "      FROM browse AS 'b'\n",
        "      LEFT JOIN checkout AS 'c'\n",
        "        ON c.user_id = b.user_id\n",
        "      LEFT JOIN purchase AS 'p'\n",
        "        ON p.user_id = c.user_id)\n",
        "    SELECT count(*) as 'num_browse',\n",
        "    sum(is_checkout) as 'num_checkout',\n",
        "    sum(is_purchase) as 'num_purchase'\n",
        "\n",
        "    from  funnels;"
      ]
    },
    {
      "cell_type": "markdown",
      "metadata": {
        "id": "cix0tpQz81qm",
        "colab_type": "text"
      },
      "source": [
        "Finally, let’s do add some more calculations to make the results more in depth.\n",
        "\n",
        "Let’s add these two columns:\n",
        "\n",
        "    Percentage of users from browse to checkout\n",
        "    Percentage of users from checkout to purchase\n",
        "    1.0 * SUM(is_checkout) / COUNT(user_id),\n",
        "    1.0 * SUM(is_purchase) / SUM(is_checkout)\n",
        "\n",
        "    WITH funnels AS (\n",
        "      SELECT DISTINCT b.browse_date,\n",
        "        b.user_id,\n",
        "        c.user_id IS NOT NULL AS 'is_checkout',\n",
        "        p.user_id IS NOT NULL AS 'is_purchase'\n",
        "      FROM browse AS 'b'\n",
        "      LEFT JOIN checkout AS 'c'\n",
        "        ON c.user_id = b.user_id\n",
        "      LEFT JOIN purchase AS 'p'\n",
        "        ON p.user_id = c.user_id)\n",
        "    SELECT count(*) as 'num_browse',\n",
        "    sum(is_checkout) as 'num_checkout',\n",
        "    sum(is_purchase) as 'num_purchase',\n",
        "    1.0 * SUM(is_checkout) / COUNT(user_id) AS 'browse_to_checkout',\n",
        "    1.0 * SUM(is_purchase) / SUM(is_checkout) AS 'checkout_to_purchase'\n",
        "    from  funnels;\n"
      ]
    },
    {
      "cell_type": "markdown",
      "metadata": {
        "id": "v1nrRDbWVXTE",
        "colab_type": "text"
      },
      "source": [
        "## **Build a Funnel from Multiple Tables 4**\n",
        "So, we’ve created a funnel for Mattresses and More’s purchase process! It looks like:\n",
        "\n",
        "    WITH funnels AS (\n",
        "      SELECT DISTINCT b.browse_date,\n",
        "        b.user_id,\n",
        "        c.user_id IS NOT NULL AS 'is_checkout',\n",
        "        p.user_id IS NOT NULL AS 'is_purchase'\n",
        "      FROM browse AS 'b'\n",
        "      LEFT JOIN checkout AS 'c'\n",
        "        ON c.user_id = b.user_id\n",
        "      LEFT JOIN purchase AS 'p'\n",
        "        ON p.user_id = c.user_id)\n",
        "    SELECT COUNT(*) AS 'num_browse',\n",
        "      SUM(is_checkout) AS 'num_checkout',\n",
        "      SUM(is_purchase) AS 'num_purchase',\n",
        "      1.0 * SUM(is_checkout) / COUNT(user_id) AS 'browse_to_checkout',\n",
        "      1.0 * SUM(is_purchase) / SUM(is_checkout) AS 'checkout_to_purchase'\n",
        "    FROM funnels;\n",
        "\n",
        "\n",
        "The management team suspects that conversion from checkout to purchase changes as the browse_date gets closer to Christmas Day.\n",
        "\n",
        "We can make a few edits to this code to calculate the funnel for each browse_date using GROUP BY."
      ]
    },
    {
      "cell_type": "markdown",
      "metadata": {
        "id": "oQYMal_rVo0Q",
        "colab_type": "text"
      },
      "source": [
        "## **Results**\n",
        "Overall conversion rates:\n",
        "\n",
        "    browse\tcheckout\tpurchase\tbrowse_to_checkout\tcheckout_to_purchase\n",
        "    775\t      183\t       163\t         0.236\t            0.890\n",
        "\n",
        "How conversion rates change as we get closer to Christmas:\n",
        "\n",
        "    browse_date\tbrowse\tcheckout\tpurchase\tbrowse_to_checkout\tcheckout_to_purchase\n",
        "    2017-12-20\t100\t       20\t       16\t          0.2\t           0.8\n",
        "    2017-12-21\t150\t       33\t       28\t         0.22\t           0.84\n",
        "    2017-12-22\t250\t       62\t       55\t         0.24\t           0.88\n",
        "    2017-12-23\t275\t       68\t       64\t         0.24\t           0.94\n",
        "\n",
        "Oh wow, look at the steady increase in sales (increasing checkout_to_purchase percentage) as we inch closer to Christmas Eve!\n",
        "\n",
        "![alt text](https://s3.amazonaws.com/codecademy-content/courses/sql-intensive/purchase.svg)\n"
      ]
    },
    {
      "cell_type": "markdown",
      "metadata": {
        "id": "Aqckc1cVXUiF",
        "colab_type": "text"
      },
      "source": [
        "## **Usage Funnels with Warby Parker**\n",
        "\n",
        "\n",
        "Warby Parker is a transformative lifestyle brand with a lofty objective: to offer designer eyewear at a revolutionary price while leading the way for socially conscious businesses. Founded in 2010 and named after two characters in an early Jack Kerouac journal, Warby Parker believes in creative thinking, smart design, and doing good in the world. For every pair of eyeglasses and sunglasses sold, a pair is distributed to someone in need.\n",
        "\n",
        "In this project, you will analyze different Warby Parker’s marketing funnels in order to calculate conversion rates. Here are the funnels and the tables that you are given:\n",
        "\n",
        "Quiz Funnel:\n",
        "\n",
        "survey\n",
        "Home Try-On Funnel:\n",
        "\n",
        "    quiz\n",
        "    home_try_on\n",
        "    purchase\n",
        "This project was a collaboration with Warby Parker’s Data Science team (thank you!) and uses fictional data."
      ]
    },
    {
      "cell_type": "markdown",
      "metadata": {
        "id": "OedQDTEiXkSY",
        "colab_type": "text"
      },
      "source": [
        "To help users find their perfect frame, Warby Parker has a Style Quiz that has the following questions:\n",
        "\n",
        "“What are you looking for?”\n",
        "“What’s your fit?”\n",
        "“Which shapes do you like?”\n",
        "“Which colors do you like?”\n",
        "“When was your last eye exam?”\n",
        "The users’ responses are stored in a table called survey.\n",
        "\n",
        "Select all columns from the first 10 rows. What columns does the table have?\n",
        "\n",
        "    SELECT *\n",
        "    FROM survey\n",
        "    LIMIT 10;"
      ]
    },
    {
      "cell_type": "markdown",
      "metadata": {
        "id": "fLoiPbUNYOY9",
        "colab_type": "text"
      },
      "source": [
        "## **Users will “give up” at different points in the survey. Let’s analyze how many users move from Question 1 to Question 2, etc.**\n",
        "\n",
        "Create a quiz funnel using the GROUP BY command.\n",
        "\n",
        "What is the number of responses for each question?\n",
        "\n",
        "\n",
        "Hint\n",
        "```\n",
        "SELECT question,\n",
        "COUNT(DISTINCT user_id)\n",
        "FROM survey\n",
        "GROUP BY question;\n",
        "```\n",
        "You can also use column reference number:\n",
        "\n",
        "    SELECT question,\n",
        "      COUNT(DISTINCT user_id)\n",
        "    FROM survey\n",
        "    GROUP BY 1;\n",
        "\n",
        "```\n",
        "Question 1 - ?\n",
        "Question 2 - ?\n",
        "Question 3 - ?\n",
        "Question 4 - ?\n",
        "Question 5 - ?\n",
        "```\n",
        "\n"
      ]
    },
    {
      "cell_type": "markdown",
      "metadata": {
        "id": "jBErlU4idBgy",
        "colab_type": "text"
      },
      "source": [
        "## **We’d like to create a new table with the following layout:**\n",
        "\n",
        "    user_id\tis_home_try_on\tnumber_of_pairs\tis_purchase\n",
        "    4e8118dc\t  True\t             3\t        False\n",
        "    291f1cca\t  True\t             5\t        False\n",
        "    75122300\t  False\t             NULL\t    False\n",
        "\n",
        "Each row will represent a single user from the browse table:\n",
        "\n",
        "If the user has any entries in home_try_on, then is_home_try_on will be True.\n",
        "number_of_pairs comes from home_try_on table\n",
        "If the user has any entries in purchase, then is_purchase will be True.\n",
        "Use a LEFT JOIN to combine the three tables, starting with the top of the funnel (quiz) and ending with the bottom of the funnel (purchase).\n",
        "\n",
        "Select only the first 10 rows from this table (otherwise, the query will run really slowly).\n",
        "\n",
        "\n",
        "Hint\n",
        "We use a LEFT JOIN to combine the three tables, starting at the top of the funnel (browse) and ending with the bottom of the funnel (purchase).\n",
        "\n",
        "    SELECT DISTINCT q.user_id,\n",
        "      h.user_id IS NOT NULL AS 'is_home_try_on',\n",
        "      h.number_of_pairs,\n",
        "      p.user_id IS NOT NULL AS 'is_purchase'\n",
        "    FROM quiz q\n",
        "    LEFT JOIN home_try_on h\n",
        "      ON q.user_id = h.user_id\n",
        "    LEFT JOIN purchase p\n",
        "      ON p.user_id = q.user_id\n",
        "    LIMIT 10;"
      ]
    },
    {
      "cell_type": "markdown",
      "metadata": {
        "id": "pc7O4XNSd1mf",
        "colab_type": "text"
      },
      "source": [
        "## **Once we have the data in this format, we can analyze it in several ways:**\n",
        "\n",
        "We can calculate overall conversion rates by aggregating across all rows.\n",
        "We can compare conversion from quiz→home_try_on and home_try_on→purchase.\n",
        "We can calculate the difference in purchase rates between customers who had 3 number_of_pairs with ones who had 5.\n",
        "And more!\n",
        "We can also use the original tables to calculate things like:\n",
        "\n",
        "    The most common results of the style quiz.\n",
        "    The most common types of purchase made.\n",
        "    And more!\n",
        "    What are some actionable insights for Warby Parker?\n",
        "\n"
      ]
    }
  ]
}