{
  "nbformat": 4,
  "nbformat_minor": 0,
  "metadata": {
    "colab": {
      "name": "Code Challenge: Queries.ipynb",
      "provenance": [],
      "authorship_tag": "ABX9TyMye9fmuGjxCxJKvqdHxcVp",
      "include_colab_link": true
    },
    "kernelspec": {
      "name": "python3",
      "display_name": "Python 3"
    }
  },
  "cells": [
    {
      "cell_type": "markdown",
      "metadata": {
        "id": "view-in-github",
        "colab_type": "text"
      },
      "source": [
        "<a href=\"https://colab.research.google.com/github/trijuhari/Data_science/blob/master/Code_Challenge_Queries.ipynb\" target=\"_parent\"><img src=\"https://colab.research.google.com/assets/colab-badge.svg\" alt=\"Open In Colab\"/></a>"
      ]
    },
    {
      "cell_type": "markdown",
      "metadata": {
        "id": "NSYKrRIMujZ6",
        "colab_type": "text"
      },
      "source": [
        "# **Code Challenge: Queries**\n",
        "LESSON\n",
        "Practice basic SQL query commands.\n",
        "\n",
        "## **Baby Names Introduction**\n",
        "Welcome to Code Challenge: Queries!\n",
        "\n",
        "In this Code Challenge, you will be querying data from three different datasets:\n",
        "\n",
        "* Baby Names\n",
        "* Restaurants\n",
        "*  News Headlines\n",
        "\n",
        "\n",
        "In the first one, you will be performing analysis on U.S. baby names.\n",
        "\n",
        "You’ll start with a table named babies with four columns.\n",
        "\n",
        "Thank you SSA for the data.\n",
        "\n",
        "\n",
        "![alt text](https://content.codecademy.com/courses/updated_images/SQLbabiesdiagram_Updated_1-01.svg)"
      ]
    },
    {
      "cell_type": "markdown",
      "metadata": {
        "id": "WR_QlW9GvAlY",
        "colab_type": "text"
      },
      "source": [
        "## **Code Challenge 1**\n",
        "The babies table has the following columns:\n",
        "\n",
        "* name - the name of the baby\n",
        "* year - the year the name was given\n",
        "* gender - the gender of the baby\n",
        "* number - the number of times the name was given\n",
        "Click here for the table diagram.\n",
        "\n",
        "Instructions\n",
        "1.\n",
        "Find the number of girls who were named Lillian for the full span of time of the database.\n",
        "\n",
        "Select only the year and number columns.\n",
        "\n",
        "\n",
        "    select year, number  from babies where name= 'Lillian' ;"
      ]
    },
    {
      "cell_type": "markdown",
      "metadata": {
        "id": "gr6YRERgvZgK",
        "colab_type": "text"
      },
      "source": [
        "## **Code Challenge 2**\n",
        "The babies table has the following columns:\n",
        "\n",
        "* name - the name of the baby\n",
        "* year - the year the name was given\n",
        "* gender - the gender of the baby\n",
        "* number - the number of times the name was given\n",
        "Click here for the table diagram.\n",
        "\n",
        "Instructions\n",
        "1.\n",
        "Find 20 distinct names that start with ‘S’.\n",
        "\n",
        "Select only the name column\n",
        "\n",
        "\n",
        "    SELECT DISTINCT name\n",
        "    FROM babies\n",
        "    WHERE name LIKE 'S%' LIMIT 20;"
      ]
    },
    {
      "cell_type": "markdown",
      "metadata": {
        "id": "dLslpiFBwipo",
        "colab_type": "text"
      },
      "source": [
        "## **Code Challenge 3**\n",
        "The babies table has the following columns:\n",
        "\n",
        "* name - the name of the baby\n",
        "* year - the year the name was given\n",
        "* gender - the gender of the baby\n",
        "* number - the number of times the name was given\n",
        "\n",
        "\n",
        "Click here for the table diagram.\n",
        "\n",
        "Instructions\n",
        "1.\n",
        "    What are the top 10 names in 1880?\n",
        "\n",
        "    Select the name, gender, and number columns.\n",
        "\n",
        " \n",
        "First, we need to specify the year using a WHERE clause:\n",
        "\n",
        "    SELECT name, gender, number\n",
        "    FROM babies\n",
        "    WHERE year = 1880;\n",
        "\n",
        "\n",
        "Then, we need to ORDER BY the number of times that name was given. We also need to add DESC so that we start with the most popular names:\n",
        "\n",
        "    SELECT name, gender, number\n",
        "    FROM babies\n",
        "    WHERE year = 1880\n",
        "    ORDER BY number DESC;\n",
        "Finally, we need to limit our results to the first 10 results:\n",
        "\n",
        "    SELECT name, gender, number\n",
        "    FROM babies\n",
        "    WHERE year = 1880\n",
        "    ORDER BY number DESC\n",
        "    LIMIT 10;"
      ]
    },
    {
      "cell_type": "markdown",
      "metadata": {
        "id": "U0uJQ8udyc4Z",
        "colab_type": "text"
      },
      "source": [
        "## **Restaurants Introduction**\n",
        "Next up, you will be querying data on restaurants:\n",
        "\n",
        "* Baby Names\n",
        "* Restaurants\n",
        "* News Headlines\n",
        "\n",
        "We need your help to answer some questions and find the best dinner spots in the city!\n",
        "\n",
        "You’ll work with a table named nomnom with six columns.\n",
        "\n",
        "![alt text](https://content.codecademy.com/courses/updated_images/Nomnom_Updated_1.svg)"
      ]
    },
    {
      "cell_type": "markdown",
      "metadata": {
        "id": "f-GsRTMoyqJt",
        "colab_type": "text"
      },
      "source": [
        "## **Code Challenge 4**\n",
        "The nomnom table has the following columns:\n",
        "\n",
        "* name - the restaurant name\n",
        "* neighborhood - the neighborhood name\n",
        "*  cuisine - the cuisine type\n",
        "* review - the average user review\n",
        "* price - the price range\n",
        "* health - the health inspection grade\n",
        "\n",
        "Click here for the table diagram.\n",
        "\n",
        "Instructions\n",
        "1.\n",
        "Suppose your friend Jaime wants to go out to Japanese, but you’re on a budget.\n",
        "\n",
        "Return all the restaurants that are Japanese and $$.\n",
        "\n",
        "Select all the columns.\n",
        "\n",
        "    SELECT * FROM nomnom where  cuisine  =\"Japanese\" AND price ='$$';"
      ]
    },
    {
      "cell_type": "markdown",
      "metadata": {
        "id": "Pmw5CQBaz5Pj",
        "colab_type": "text"
      },
      "source": [
        "## **Code Challenge 5**\n",
        "The nomnom table has the following columns:\n",
        "\n",
        "* name - the restaurant name\n",
        "* neighborhood - the neighborhood name\n",
        "*  cuisine - the cuisine type\n",
        "* review - the average user review\n",
        "* price - the price range\n",
        "* health - the health inspection grade\n",
        "\n",
        "\n",
        "Click here for the table diagram.\n",
        "\n",
        "Instructions\n",
        "1.\n",
        "Your roommate Bevers can’t remember the exact name of a restaurant he went to but he knows it contains the word ‘noodle’ in it.\n",
        "\n",
        "Can you find it for him using a query?\n",
        "\n",
        "% is a wildcard character that matches zero or more missing letters in the pattern.\n",
        "\n",
        "To find the restaurant names that contain the word ‘noodle’:\n",
        "\n",
        "    SELECT ___\n",
        "    FROM _____\n",
        "    WHERE name LIKE '%noodle%';\n",
        "\n",
        "Select all the columns.\n",
        "\n",
        "    SELECT * FROM nomnom WHERE name like '%noodle%';\n",
        "        "
      ]
    },
    {
      "cell_type": "markdown",
      "metadata": {
        "id": "yxRLP-fF_xek",
        "colab_type": "text"
      },
      "source": [
        "## **Code Challenge 6\n",
        "The nomnom table has the following columns:\n",
        " \n",
        "\n",
        "Instructions\n",
        "1.\n",
        "Some of the restaurants have not been inspected yet or are currently appealing their health grade score.\n",
        "\n",
        "Find the restaurants that have empty health values.\n",
        "\n",
        "Select all the columns.\n",
        "\n",
        "\n",
        "    select * from nomnom where  health is null;"
      ]
    },
    {
      "cell_type": "markdown",
      "metadata": {
        "id": "RMnPrmJZB35z",
        "colab_type": "text"
      },
      "source": [
        "## **News Headlines Introduction**\n",
        "\n",
        "Here is the last dataset of the Code Challenge #1:\n",
        "\n",
        "* Baby Names\n",
        "* Restaurants\n",
        "* News Headlines\n",
        "\n",
        "\n",
        "There is a table called news with six columns.\n",
        "\n",
        "It is full of news article headlines from different publishing companies!\n",
        "\n",
        "![alt text](https://content.codecademy.com/courses/updated_images/SQL_Intensive_NewsDiagram_Updated_1.svg)"
      ]
    },
    {
      "cell_type": "markdown",
      "metadata": {
        "id": "oCOWu_qhCZC7",
        "colab_type": "text"
      },
      "source": [
        "## **Code Challenge 7**\n",
        "\n",
        "\n",
        "The news table has the following columns:\n",
        "\n",
        "* id - the article identifier\n",
        "* title - the article title\n",
        "* publisher - the article publisher\n",
        "* category - the article category\n",
        "* timestamp - the time of publication\n",
        "* url - the article web address\n",
        "\n",
        "Click here for the table diagram.\n",
        "\n",
        "Instructions\n",
        "1.\n",
        "Order the table by title (from A-Z).\n",
        "\n",
        "Select only the title and publisher columns.\n",
        "\n",
        "\n",
        "    SELECT title, publisher FROM news ORDER BY title asc \n",
        "\n"
      ]
    },
    {
      "cell_type": "markdown",
      "metadata": {
        "id": "VS7Ibt3FA4Mm",
        "colab_type": "text"
      },
      "source": [
        "## **Code Challenge 8**\n",
        "The news table has the following columns:\n",
        "\n",
        "\n",
        "Instructions\n",
        "1.\n",
        "Which article names have the word 'bitcoin' in it?\n",
        "\n",
        "Select all the columns.\n",
        "\n",
        "    SELECT * FROM news  WHERE title  LIKE '%bitcoin%'"
      ]
    },
    {
      "cell_type": "markdown",
      "metadata": {
        "id": "unm1rK2WBaJe",
        "colab_type": "text"
      },
      "source": [
        "## **Code Challenge 9**\n",
        "The news table has the following columns:\n",
        "\n",
        "\n",
        "Instructions\n",
        "1.\n",
        "The category column contains the article category:\n",
        "\n",
        "'b' stands for Business\n",
        "'t' stands for Technology\n",
        "What are the 20 business articles published most recently?\n",
        "\n",
        "Select all the columns.\n",
        "\n",
        "      SELECT  * FROM news  WHERE category ='b' ORDER BY timestamp DESC LIMIT 20;"
      ]
    },
    {
      "cell_type": "markdown",
      "metadata": {
        "id": "0g1dF3LkB-Cy",
        "colab_type": "text"
      },
      "source": [
        "## **The End**\n",
        " \n",
        "Feel free to experiment more with all three tables. For example:\n",
        "\n",
        "Is your name in babies?\n",
        "* How many babies were given your name?\n",
        "* What are the top 5 restaurants in nomnom?\n",
        "* What are the top 5 Chinese restaurants?\n",
        "* Which articles are from Wall Street Journal in news?\n",
        "* Which technology articles are from Wall Street Journal?"
      ]
    },
    {
      "cell_type": "markdown",
      "metadata": {
        "id": "jWbJe153u4P4",
        "colab_type": "text"
      },
      "source": [
        ""
      ]
    }
  ]
}